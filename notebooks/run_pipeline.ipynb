{
 "cells": [
  {
   "cell_type": "markdown",
   "id": "13de484b-d51e-43dd-9c26-c4c42b02c215",
   "metadata": {},
   "source": [
    "# Import WOS & Scopus to Infoscience"
   ]
  },
  {
   "cell_type": "code",
   "execution_count": null,
   "id": "c5d2fa12",
   "metadata": {},
   "outputs": [],
   "source": [
    "import sys\n",
    "import os\n",
    "import pandas as pd\n",
    "\n",
    "sys.path.append(os.path.abspath(\"..\"))\n",
    "from data_pipeline.main import main\n",
    "from data_pipeline.reporting import GenerateReports"
   ]
  },
  {
   "cell_type": "markdown",
   "id": "ace96c6e",
   "metadata": {},
   "source": [
    "## Define parameters"
   ]
  },
  {
   "cell_type": "code",
   "execution_count": null,
   "id": "8ae46c94",
   "metadata": {},
   "outputs": [],
   "source": [
    "start = \"2025-02-05\"\n",
    "end = \"2025-02-08\"\n",
    "\n",
    "# author_ids = [\"DYK-7080-2022\", \"23008979400\"]\n",
    "author_ids = None\n",
    "\n",
    "# wos_query = (\"AI=(DYK-7080-2022) AND OG=(Ecole Polytechnique Federale de Lausanne) AND PY=2024\")\n",
    "wos_query = None\n",
    "\n",
    "# scopus_query = \"AU-ID ( 23008979400 ) AND AFFIL ( ecole polytechnique federale de lausanne ) AND PUBYEAR > 2023\"\n",
    "scopus_query = None"
   ]
  },
  {
   "cell_type": "markdown",
   "id": "d5267e7d",
   "metadata": {},
   "source": [
    "## Run pipeline"
   ]
  },
  {
   "cell_type": "code",
   "execution_count": null,
   "id": "04d0e685",
   "metadata": {},
   "outputs": [],
   "source": [
    "custom_queries = {}\n",
    "\n",
    "if wos_query:\n",
    "    custom_queries[\"wos\"] = wos_query\n",
    "if scopus_query:\n",
    "    custom_queries[\"scopus\"] = scopus_query\n",
    "\n",
    "queries = custom_queries if custom_queries else {}\n",
    "\n",
    "results = main(start_date=start, end_date=end, queries=queries, authors_ids=author_ids)"
   ]
  }
 ],
 "metadata": {
  "kernelspec": {
   "display_name": "Python 3",
   "language": "python",
   "name": "python3"
  },
  "language_info": {
   "codemirror_mode": {
    "name": "ipython",
    "version": 3
   },
   "file_extension": ".py",
   "mimetype": "text/x-python",
   "name": "python",
   "nbconvert_exporter": "python",
   "pygments_lexer": "ipython3",
   "version": "3.11.9"
  }
 },
 "nbformat": 4,
 "nbformat_minor": 5
}
