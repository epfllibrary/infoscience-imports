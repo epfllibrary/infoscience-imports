{
 "cells": [
  {
   "cell_type": "markdown",
   "id": "13de484b-d51e-43dd-9c26-c4c42b02c215",
   "metadata": {},
   "source": [
    "# Import WOS & Scopus to Infoscience"
   ]
  },
  {
   "cell_type": "code",
   "execution_count": 1,
   "id": "b4ec18b5",
   "metadata": {},
   "outputs": [],
   "source": [
    "from data_pipeline.main import main\n",
    "from datetime import datetime\n",
    "import pandas as pd\n",
    "import os\n",
    "from data_pipeline.loader import Loader"
   ]
  },
  {
   "cell_type": "code",
   "execution_count": null,
   "id": "248ff1c4",
   "metadata": {},
   "outputs": [],
   "source": [
    "### Workflow metadata #####################\n",
    "current_datetime = datetime.now().strftime(\"%Y_%m_%d-%H_%M_%S\")\n",
    "folder_path = \"harvested-data\"\n",
    "path = os.path.join(folder_path, current_datetime)\n",
    "if not os.path.exists(path):\n",
    "    os.mkdir(path)\n",
    "### Workflow execution #####################\n",
    "start = \"2024-09-07\"\n",
    "end = \"2024-09-07\"\n",
    "df_metadata, df_authors, df_epfl_authors, df_unloaded = main(start_date=start, end_date=end)\n",
    "### Save data #####################\n",
    "df_metadata.to_csv(os.path.join(path, \"ResearchOutput.csv\"), index=False, encoding=\"utf-8\")\n",
    "df_authors.to_csv(os.path.join(path, \"AddressesAndNames.csv\"), index=False, encoding=\"utf-8\")\n",
    "df_epfl_authors.to_csv(os.path.join(path, \"EpflAuthors.csv\"), index=False, encoding=\"utf-8\")\n",
    "df_unloaded.to_csv(os.path.join(path, \"UnloadedDuplicatedPublications.csv\"), index=False, encoding=\"utf-8\")"
   ]
  },
  {
   "cell_type": "code",
   "execution_count": null,
   "id": "32f2d9ab",
   "metadata": {},
   "outputs": [],
   "source": [
    "### WIP Add step to create non-exitsing EPFL person's authorities in DSpace #####################"
   ]
  },
  {
   "cell_type": "code",
   "execution_count": null,
   "id": "e0456561",
   "metadata": {},
   "outputs": [],
   "source": [
    "### Upload data in DSpace #####################\n",
    "# Loader\n",
    "loader_instance = Loader(df_metadata, df_epfl_authors)\n",
    "loaded_items = loader_instance.create_complete_publication()"
   ]
  },
  {
   "cell_type": "code",
   "execution_count": null,
   "id": "bd4392ac",
   "metadata": {},
   "outputs": [],
   "source": [
    "### WIP Add step to zip generated reports and send them by email #####################\n",
    "loaded_items"
   ]
  },
  {
   "cell_type": "markdown",
   "id": "cfef216f-9204-43ce-a868-07813cdfb806",
   "metadata": {},
   "source": [
    "***"
   ]
  }
 ],
 "metadata": {
  "kernelspec": {
   "display_name": "Python 3",
   "language": "python",
   "name": "python3"
  },
  "language_info": {
   "codemirror_mode": {
    "name": "ipython",
    "version": 3
   },
   "file_extension": ".py",
   "mimetype": "text/x-python",
   "name": "python",
   "nbconvert_exporter": "python",
   "pygments_lexer": "ipython3",
   "version": "3.11.3"
  }
 },
 "nbformat": 4,
 "nbformat_minor": 5
}
