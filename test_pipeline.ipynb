{
 "cells": [
  {
   "cell_type": "markdown",
   "id": "13de484b-d51e-43dd-9c26-c4c42b02c215",
   "metadata": {},
   "source": [
    "# Import WOS & Scopus to Infoscience"
   ]
  },
  {
   "cell_type": "code",
   "execution_count": 1,
   "id": "b4ec18b5",
   "metadata": {},
   "outputs": [],
   "source": [
    "from data_pipeline.main import main\n",
    "import pandas as pd\n",
    "import logging\n",
    "import ipywidgets as widgets\n",
    "from ipywidgets import Layout\n",
    "from IPython.display import display, Markdown, HTML\n",
    "from datetime import date\n",
    "import os, base64\n",
    "import utils"
   ]
  },
  {
   "cell_type": "code",
   "execution_count": 2,
   "id": "b3b50852-f511-476e-9d22-ab22a010b0c6",
   "metadata": {
    "tags": []
   },
   "outputs": [],
   "source": [
    "# common functions ###############################\n",
    "def create_download_link(filename, title = \"Cliquer ici pour télécharger le fichier : \"):  \n",
    "    data = open(filename, \"rb\").read()\n",
    "    b64 = base64.b64encode(data)\n",
    "    payload = b64.decode()\n",
    "    html = '<a download=\"{filename}\" href=\"data:text/csv;base64,{payload}\" target=\"_blank\">{title}</a>'\n",
    "    html = html.format(payload=payload,title=title+f' {filename}',filename=filename)\n",
    "    return HTML(html)"
   ]
  },
  {
   "cell_type": "markdown",
   "id": "cfef216f-9204-43ce-a868-07813cdfb806",
   "metadata": {},
   "source": [
    "***"
   ]
  },
  {
   "cell_type": "markdown",
   "id": "b2b841ae-590e-4ae3-b484-1899f17d32b4",
   "metadata": {},
   "source": [
    "## Etape 1 : Récupération des publications EPFL (métadonnées, auteurs, affiliations) depuis les bases biblios externes, dédoublonnage entre sources et dédoublonnage sur publications déjà présentes dans Infoscience"
   ]
  },
  {
   "cell_type": "code",
   "execution_count": 3,
   "id": "a62ea6ca",
   "metadata": {},
   "outputs": [],
   "source": [
    "### Workflow metadata #####################\n",
    "current_date = str(date.today())\n",
    "folder_path = \"harvested-data\"\n",
    "path = os.path.join(folder_path, str(current_date).replace(\"-\", \"_\"))\n",
    "if not os.path.exists(path):\n",
    "    os.mkdir(path)\n",
    "\n",
    "### ipywidgets config #########################\n",
    "style = {'description_width': 'initial'}\n",
    "spinner_output = widgets.Output()"
   ]
  },
  {
   "cell_type": "markdown",
   "id": "76d1ade5-1c20-426b-91a5-a97bd25c6e84",
   "metadata": {},
   "source": [
    "**`main.py`** : The default queries are the ones that identifify and harvest the publications of the EPFL institutions\n",
    "\n",
    "- WoS : \"OG=(Ecole Polytechnique Federale de Lausanne)\"\n",
    "- Scopus : \"AF-ID(60028186) OR AF-ID(60210159) OR AF-ID(60070536) OR AF-ID(60204330) OR AF-ID(60070531) OR AF-ID(60070534) OR AF-ID(60070538) OR AF-ID(60014951) OR AF-ID(60070529) OR AF-ID(60070532) OR AF-ID(60070535) OR AF-ID(60122563) OR AF-ID(60210160) OR AF-ID(60204331)\"\n",
    "\n",
    "These queries are completed by the selected data range as parameters\n",
    "\n",
    "**notebook** : To overwrite and customize the default queries:\n",
    "```\n",
    "custom_queries = {\n",
    "    \"wos\": \"OG=(Your Custom Query for WOS)\",\n",
    "    \"scopus\": \"AF-ID(Your Custom Scopus ID)\",\n",
    "    \"openalex\": \"YOUR_CUSTOM_OPENALEX_QUERY\",\n",
    "    \"zenodo\": \"YOUR_CUSTOM_ZENODO_QUERY\"\n",
    "}\n",
    "df_metadata, df_authors, df_unloaded = main(start_date=\"2023-01-01\", end_date=\"2023-12-31\", queries=custom_queries)\n",
    "```"
   ]
  },
  {
   "cell_type": "code",
   "execution_count": null,
   "id": "e8697952-1eb3-44c9-88f6-4c7e251cdcd5",
   "metadata": {},
   "outputs": [],
   "source": [
    "start_date = widgets.DatePicker(\n",
    "    description='Date de publication postérieure au : ',\n",
    "    value=pd.to_datetime('2024-09-01'),\n",
    "    disabled=False,\n",
    "    style=style,\n",
    "    layout = Layout(width='50%', height='30px', display='flex')\n",
    ")\n",
    "\n",
    "end_date = widgets.DatePicker(\n",
    "    description=\"Date de publication antérieure au : \",\n",
    "    value=pd.to_datetime(\"2024-09-05\"),\n",
    "    disabled=False,\n",
    "    style=style,\n",
    "    layout=Layout(width=\"50%\", height=\"30px\", display=\"flex\"),\n",
    ")\n",
    "\n",
    "harvest_button = widgets.Button(description=\"Harvest WOS and Scopus\")\n",
    "harvest_output = widgets.Output()\n",
    "\n",
    "display(start_date, end_date,harvest_button, harvest_output, spinner_output)\n",
    "\n",
    "def harvest_button_clicked(b):\n",
    "    with spinner_output:\n",
    "        display(widgets.HTML(\"<p>Chargement en cours...</p>\"))\n",
    "    with harvest_output:\n",
    "        start = start_date.value.strftime('%Y-%m-%d')\n",
    "        end = end_date.value.strftime('%Y-%m-%d')\n",
    "        df_metadata, df_authors, df_epfl_authors, df_unloaded = main(start_date=start, end_date=end)\n",
    "        df_metadata.to_csv(\n",
    "                       os.path.join(path, \"ResearchOutput.csv\"), index=False, encoding=\"utf-8\")\n",
    "        df_authors.to_csv(\n",
    "                       os.path.join(path, \"AddressesAndNames.csv\"), index=False, encoding=\"utf-8\")\n",
    "        df_epfl_authors.to_csv(\n",
    "                       os.path.join(path, \"EpflAuthors.csv\"), index=False, encoding=\"utf-8\")\n",
    "        df_unloaded.to_csv(\n",
    "                       os.path.join(path, \"UnloadedDuplicatedPublications.csv\"), index=False, encoding=\"utf-8\")\n",
    "        # Liens de téléchargement\n",
    "        display(create_download_link(os.path.join(path,\"ResearchOutput.csv\")))\n",
    "        display(create_download_link(os.path.join(path,\"AddressesAndNames.csv\")))\n",
    "        display(create_download_link(os.path.join(path,\"EpflAuthors.csv\")))\n",
    "        display(create_download_link(os.path.join(path,\"UnloadedDuplicatedPublications.csv\")))\n",
    "        spinner_output.clear_output()\n",
    "\n",
    "harvest_button.on_click(harvest_button_clicked)"
   ]
  },
  {
   "cell_type": "markdown",
   "id": "6b3abef8-7809-413f-a630-626208d34946",
   "metadata": {},
   "source": [
    "***"
   ]
  },
  {
   "cell_type": "markdown",
   "id": "642f047f",
   "metadata": {},
   "source": [
    "## Etape 3 (WIP) : Importation en tant que workspace items dans DSpace"
   ]
  }
 ],
 "metadata": {
  "kernelspec": {
   "display_name": "Python 3",
   "language": "python",
   "name": "python3"
  },
  "language_info": {
   "codemirror_mode": {
    "name": "ipython",
    "version": 3
   },
   "file_extension": ".py",
   "mimetype": "text/x-python",
   "name": "python",
   "nbconvert_exporter": "python",
   "pygments_lexer": "ipython3",
   "version": "3.11.3"
  }
 },
 "nbformat": 4,
 "nbformat_minor": 5
}
