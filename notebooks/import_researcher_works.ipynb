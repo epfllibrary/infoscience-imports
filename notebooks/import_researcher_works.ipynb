{
 "cells": [
  {
   "cell_type": "markdown",
   "id": "13de484b-d51e-43dd-9c26-c4c42b02c215",
   "metadata": {},
   "source": [
    "# Import works from a specific researcher"
   ]
  },
  {
   "cell_type": "code",
   "execution_count": 1,
   "id": "c5d2fa12",
   "metadata": {},
   "outputs": [],
   "source": [
    "import sys\n",
    "import os\n",
    "\n",
    "sys.path.append(os.path.abspath(\"..\"))"
   ]
  },
  {
   "cell_type": "code",
   "execution_count": null,
   "id": "b4ec18b5",
   "metadata": {},
   "outputs": [],
   "source": [
    "from data_pipeline.main import main\n",
    "from datetime import datetime\n",
    "import shutil\n",
    "from data_pipeline.loader import Loader\n",
    "from email.mime.multipart import MIMEMultipart\n",
    "from email.mime.base import MIMEBase\n",
    "from email import encoders\n",
    "from email.mime.text import MIMEText"
   ]
  },
  {
   "cell_type": "code",
   "execution_count": 3,
   "id": "81d80ccb",
   "metadata": {},
   "outputs": [],
   "source": [
    "researcherid = \"FYN-6937-2022\"\n",
    "scopusauthid = \"35190508300\"\n",
    "start_year = \"2016\"\n",
    "\n",
    "custom_queries = {\n",
    "    \"wos\": f\"OG=(Ecole Polytechnique Federale de Lausanne) AND AI={researcherid} AND DOP=({start_year}-01-01/2025-01-01)\",\n",
    "    \"scopus\": f\"(AF-ID(60028186) OR AF-ID(60210159) OR AF-ID(60070536) OR AF-ID(60204330) OR AF-ID(60070531) OR AF-ID(60070534) OR AF-ID(60070538) OR AF-ID(60014951) OR AF-ID(60070529) OR AF-ID(60070532) OR AF-ID(60070535) OR AF-ID(60122563) OR AF-ID(60210160) OR AF-ID(60204331)) AND AU-ID('{scopusauthid}') AND PUBYEAR > {start_year}\",\n",
    "}"
   ]
  },
  {
   "cell_type": "code",
   "execution_count": 4,
   "id": "c8399ce3",
   "metadata": {},
   "outputs": [],
   "source": [
    "# Création du dossier avec la date actuelle\n",
    "current_datetime = datetime.now().strftime(\"%Y_%m_%d-%H_%M_%S\")\n",
    "folder_path = \"harvested-data\"\n",
    "os.makedirs(folder_path, exist_ok=True)\n",
    "path = os.path.join(folder_path, current_datetime)\n",
    "\n",
    "if not os.path.exists(path):\n",
    "    os.mkdir(path)"
   ]
  },
  {
   "cell_type": "code",
   "execution_count": null,
   "id": "04d0e685",
   "metadata": {},
   "outputs": [],
   "source": [
    "# Exécution du workflow\n",
    "start = \"2016-01-01\"\n",
    "end = \"2025-01-01\"\n",
    "df_metadata, df_authors, df_epfl_authors, df_unloaded = main(\n",
    "    start_date=start, end_date=end, queries=custom_queries\n",
    ")"
   ]
  },
  {
   "cell_type": "code",
   "execution_count": 6,
   "id": "f31d1cac",
   "metadata": {},
   "outputs": [],
   "source": [
    "# Sauvegarde des données au format CSV\n",
    "df_metadata.to_csv(\n",
    "    os.path.join(path, \"ResearchOutput.csv\"), index=False, encoding=\"utf-8\"\n",
    ")\n",
    "df_authors.to_csv(\n",
    "    os.path.join(path, \"AddressesAndNames.csv\"), index=False, encoding=\"utf-8\"\n",
    ")\n",
    "df_epfl_authors.to_csv(\n",
    "    os.path.join(path, \"EpflAuthors.csv\"), index=False, encoding=\"utf-8\"\n",
    ")\n",
    "df_unloaded.to_csv(\n",
    "    os.path.join(path, \"UnloadedDuplicatedPublications.csv\"),\n",
    "    index=False,\n",
    "    encoding=\"utf-8\",\n",
    ")"
   ]
  },
  {
   "cell_type": "code",
   "execution_count": null,
   "id": "32f2d9ab",
   "metadata": {},
   "outputs": [],
   "source": [
    "### WIP Add step to create non-exitsing EPFL person's authorities in DSpace #####################"
   ]
  },
  {
   "cell_type": "code",
   "execution_count": null,
   "id": "e0456561",
   "metadata": {},
   "outputs": [],
   "source": [
    "### Upload data in DSpace #####################\n",
    "# Loader\n",
    "loader_instance = Loader(df_metadata, df_epfl_authors)\n",
    "loaded_items = loader_instance.create_complete_publication()"
   ]
  },
  {
   "cell_type": "code",
   "execution_count": 6,
   "id": "bd4392ac",
   "metadata": {},
   "outputs": [],
   "source": [
    "### Generated reports and send them by email #####################\n",
    "loaded_items.to_csv(\n",
    "    os.path.join(path, \"ImportedItems.csv\"), index=False, encoding=\"utf-8\"\n",
    ")"
   ]
  },
  {
   "cell_type": "code",
   "execution_count": null,
   "id": "b431fcf6",
   "metadata": {},
   "outputs": [],
   "source": [
    "# Création d'un fichier zip du dossier\n",
    "zip_filename = f\"{path}.zip\"\n",
    "shutil.make_archive(path, \"zip\", path)"
   ]
  },
  {
   "cell_type": "markdown",
   "id": "cfef216f-9204-43ce-a868-07813cdfb806",
   "metadata": {},
   "source": [
    "***"
   ]
  }
 ],
 "metadata": {
  "kernelspec": {
   "display_name": "Python 3",
   "language": "python",
   "name": "python3"
  },
  "language_info": {
   "codemirror_mode": {
    "name": "ipython",
    "version": 3
   },
   "file_extension": ".py",
   "mimetype": "text/x-python",
   "name": "python",
   "nbconvert_exporter": "python",
   "pygments_lexer": "ipython3",
   "version": "3.11.3"
  }
 },
 "nbformat": 4,
 "nbformat_minor": 5
}
