{
 "cells": [
  {
   "cell_type": "markdown",
   "id": "ae410b1f-2d72-4f9c-873b-7eded7efd7d3",
   "metadata": {},
   "source": [
    "# Import WOS & Scopus vers Infoscience : documentation des classes & fonctions + exemples"
   ]
  },
  {
   "cell_type": "code",
   "execution_count": 1,
   "id": "bc50194d-f5fb-440e-8115-a3b452b6c9e4",
   "metadata": {},
   "outputs": [],
   "source": [
    "import sys\n",
    "import os\n",
    "import pandas as pd\n",
    "import json\n",
    "\n",
    "sys.path.append(os.path.abspath(\"..\"))"
   ]
  },
  {
   "cell_type": "code",
   "execution_count": null,
   "id": "7374fe4f-223a-4946-b07d-aeaf173b8c45",
   "metadata": {},
   "outputs": [],
   "source": [
    "from itables import init_notebook_mode\n",
    "init_notebook_mode(all_interactive=True)"
   ]
  },
  {
   "cell_type": "markdown",
   "id": "dc09a5b6-d5df-4022-8174-6f35b4af2317",
   "metadata": {},
   "source": [
    "***"
   ]
  },
  {
   "cell_type": "markdown",
   "id": "3cdbacdc-c5b5-4bc8-92be-68f21a50a952",
   "metadata": {},
   "source": [
    "## Exemples d'utilisation des clients : moissonnage des sources"
   ]
  },
  {
   "cell_type": "code",
   "execution_count": 2,
   "id": "b7281f7a-f2d9-47d7-bd1b-0bce2892cf9b",
   "metadata": {},
   "outputs": [],
   "source": [
    "from clients.wos_client_v2 import WosClient\n",
    "from clients.scopus_client import ScopusClient"
   ]
  },
  {
   "cell_type": "code",
   "execution_count": 3,
   "id": "f8e3d898-2cb0-43c7-bb97-999a424b8388",
   "metadata": {},
   "outputs": [],
   "source": [
    "wos_epfl_query = \"OG=(Ecole Polytechnique Federale de Lausanne)\"\n",
    "scopus_epfl_query = \"AF-ID(60028186) AND (ORIG-LOAD-DATE AFT 20240722) AND (ORIG-LOAD-DATE BEF 20240831)\" # pour Scopus le range de dates fait partie de la query\n",
    "createdTimeSpan = \"2024-01-01+2024-01-03\" # Pour le WoS le range de date est un paramètre supplémentaire"
   ]
  },
  {
   "cell_type": "markdown",
   "id": "3c418dfd-fba5-4681-90bb-481411315190",
   "metadata": {},
   "source": [
    "### Nombre total de résultats"
   ]
  },
  {
   "cell_type": "code",
   "execution_count": null,
   "id": "944cc810-220d-46a7-8920-1f47d902d5a0",
   "metadata": {},
   "outputs": [],
   "source": [
    "## WoS\n",
    "WosClient.count_results(usrQuery=wos_epfl_query)\n",
    "WosClient.count_results(usrQuery=wos_epfl_query, createdTimeSpan=createdTimeSpan)"
   ]
  },
  {
   "cell_type": "code",
   "execution_count": null,
   "id": "b51e1c16-d951-4ad6-8971-196b7b4895ef",
   "metadata": {},
   "outputs": [],
   "source": [
    "## Scopus\n",
    "ScopusClient.count_results(query=scopus_epfl_query)"
   ]
  },
  {
   "cell_type": "markdown",
   "id": "c955aa8d-67cf-4278-a6a8-c9b9d66c8c39",
   "metadata": {},
   "source": [
    "### Récupération des IDs Scopus et WoS"
   ]
  },
  {
   "cell_type": "markdown",
   "id": "a0f0245f-e93e-4098-b6e0-faa53b8b294a",
   "metadata": {},
   "source": [
    "Par défaut count = 10 "
   ]
  },
  {
   "cell_type": "code",
   "execution_count": null,
   "id": "a5825330-68e3-4887-be59-c4ef697a693f",
   "metadata": {},
   "outputs": [],
   "source": [
    "## WoS\n",
    "WosClient.fetch_ids(usrQuery=wos_epfl_query, count=2,createdTimeSpan=createdTimeSpan)"
   ]
  },
  {
   "cell_type": "code",
   "execution_count": null,
   "id": "f9acda94-bd3a-4b28-aec7-103c3552195d",
   "metadata": {},
   "outputs": [],
   "source": [
    "## Scopus\n",
    "ScopusClient.fetch_ids(query=scopus_epfl_query)"
   ]
  },
  {
   "cell_type": "code",
   "execution_count": null,
   "id": "52728020-516b-4cc8-8c66-e49e16dc25a3",
   "metadata": {},
   "outputs": [],
   "source": [
    "## Loop\n",
    "total = ScopusClient.count_results(query=scopus_epfl_query)\n",
    "count = 5\n",
    "ids = []\n",
    "for i in range(1, int(total), int(count)):\n",
    "    ids.extend(ScopusClient.fetch_ids(query = scopus_epfl_query, count = count, start =i))"
   ]
  },
  {
   "cell_type": "markdown",
   "id": "6770fb70-1c67-4b15-8336-47d08703fd44",
   "metadata": {},
   "source": [
    "### Extraction des métadonnées"
   ]
  },
  {
   "cell_type": "markdown",
   "id": "db7ee434-8e9e-4ef3-ac23-79d12439292d",
   "metadata": {},
   "source": [
    "4 formats de sortie possibles :\n",
    "\n",
    "- \"**digest**\" (défault) :retourne les métadonnées\n",
    "  - source\n",
    "  - internal_id\n",
    "  - doi (**Important : le DOI est convert en lowercase**)\n",
    "  - title\n",
    "  - doctype\n",
    "  - pubyear\n",
    "- \"**digest-ifs3**\" : retourne les métadonnées du format **digest** plus\n",
    "  - ifs3_doctype (nom de la collection Infoscience)\n",
    "  - ifs3_collection_id (uuid de la collection Infoscience)\n",
    "- \"**ifs3**\" : retourne les métadonnnées du format **digest-ifs3** plus\n",
    "  - authors : liste d'objets auteur comprenant les métadonnées :\n",
    "    - author (nom de l'auteur)\n",
    "    - internal_author_id\n",
    "    - orcid_id,\n",
    "    - organizations\n",
    "    - sub_organizations\n",
    "- \"**scopus**\" ou \"**wos**\" : formats natifs du WoS ou Scopus\n"
   ]
  },
  {
   "cell_type": "markdown",
   "id": "70da303e-620c-497a-8b41-f5a017ccd982",
   "metadata": {},
   "source": [
    "Par défault le format de sortie est \"digest\""
   ]
  },
  {
   "cell_type": "code",
   "execution_count": null,
   "id": "6a1cd480-39c4-4f83-abd2-603d84ad531c",
   "metadata": {},
   "outputs": [],
   "source": [
    "# WoS format digest\n",
    "WosClient.fetch_records(usrQuery=wos_epfl_query,count=2,createdTimeSpan=createdTimeSpan, format=\"ifs3\")"
   ]
  },
  {
   "cell_type": "code",
   "execution_count": null,
   "id": "2ee2226d-9e19-40be-94d5-a32b984592a8",
   "metadata": {},
   "outputs": [],
   "source": [
    "# Scopus format ifs3\n",
    "ScopusClient.fetch_records(format=\"ifs3\",query=scopus_epfl_query,count=2)"
   ]
  },
  {
   "cell_type": "code",
   "execution_count": null,
   "id": "3ebcc65c-3673-419d-8146-ee203da34177",
   "metadata": {},
   "outputs": [],
   "source": [
    "# Loop\n",
    "total = ScopusClient.count_results(query=scopus_epfl_query)\n",
    "count = 50\n",
    "recs = []\n",
    "for i in range(1, int(total), int(count)):\n",
    "    recs.extend(ScopusClient.fetch_records(query = scopus_epfl_query, count = count, start =i))"
   ]
  },
  {
   "cell_type": "markdown",
   "id": "920c4680-bbf4-43f7-bb11-a9d5d52888ae",
   "metadata": {},
   "source": [
    "## Exemples d'utilisation des clients : retrieval"
   ]
  },
  {
   "cell_type": "markdown",
   "id": "0d69ec03-914b-46e2-a2d4-8e31f69901d9",
   "metadata": {},
   "source": [
    "### Retrieval api.epfl.ch"
   ]
  },
  {
   "cell_type": "code",
   "execution_count": 5,
   "id": "a8b11538-3288-44d6-bb02-c6c57571274c",
   "metadata": {},
   "outputs": [],
   "source": [
    "from clients.api_epfl_client import ApiEpflClient"
   ]
  },
  {
   "cell_type": "markdown",
   "id": "e58dd64a-9f83-46b0-9345-e52b64aa20c4",
   "metadata": {},
   "source": [
    "#### Endpoints persons"
   ]
  },
  {
   "cell_type": "code",
   "execution_count": null,
   "id": "e50d713e-e24f-4961-a1a6-4d882de7d5b5",
   "metadata": {},
   "outputs": [],
   "source": [
    "# param fistname default None\n",
    "# param lastname default None\n",
    "# param use_firstname_lastname default False (: ne pas utiliser la recherche sur firstname-lastname)\n",
    "# param format default \"sciper\" (: ne retourne que le sciper Id si trouvé. Autres formats : \"digest\" (sciper Id + units Ids) et \"epfl\" (all))\n",
    "\n",
    "ApiEpflClient.query_person(\"a bay\", format=\"digest\")"
   ]
  },
  {
   "cell_type": "code",
   "execution_count": null,
   "id": "5d35e032-3044-4a6b-98da-a6b95115d18e",
   "metadata": {},
   "outputs": [],
   "source": [
    "ApiEpflClient.query_person(\n",
    "    \"O Schneider\",\n",
    "    firstname=\"schneider\",\n",
    "    lastname=\"o\",\n",
    "    format=\"sciper\",\n",
    "    use_firstname_lastname=True,\n",
    ")"
   ]
  },
  {
   "cell_type": "code",
   "execution_count": null,
   "id": "e70a45ca-50bd-4137-ad88-1691a0126e56",
   "metadata": {},
   "outputs": [],
   "source": [
    "ApiEpflClient.query_person(\"bay a\", format=\"epfl\")"
   ]
  },
  {
   "cell_type": "markdown",
   "id": "64e66ce6-9048-47ce-93ad-3022f88c3d02",
   "metadata": {},
   "source": [
    "#### Endpoint accreds"
   ]
  },
  {
   "cell_type": "markdown",
   "id": "5a185440-eba2-4540-9cf8-7418eb51954f",
   "metadata": {},
   "source": [
    "Les données des unités récupérées via accred sont enrichies avec la métadonnée du type de l'unité (obtenue en requêtant l'endpoint api.epfl.ch/units)"
   ]
  },
  {
   "cell_type": "code",
   "execution_count": null,
   "id": "3ce3ad79-af1d-4475-9083-ae480a1f0de6",
   "metadata": {},
   "outputs": [],
   "source": [
    "#param format default \"mainUnit\" (: ne renvoie que la 1ère paire unit_id/unit_name retournée par accred. Autres formats : \"digest\" (toutes les paires unit_id/unit_name), \"epfl\" (all)) \n",
    "ApiEpflClient.fetch_accred_by_unique_id(\"105958\")"
   ]
  },
  {
   "cell_type": "markdown",
   "id": "6dab0227-cb62-484c-a6af-31a9acb849ec",
   "metadata": {},
   "source": [
    "#### Endpoint units"
   ]
  },
  {
   "cell_type": "code",
   "execution_count": null,
   "id": "dd390a78-b22b-4d0f-b465-57efca84213b",
   "metadata": {},
   "outputs": [],
   "source": [
    "#param format default \"digest\" (: ne renvoie que le type de l'unité retourné par unit. Autres formats : \"epfl\" (all record)) \n",
    "ApiEpflClient.fetch_unit_by_unique_id(\"10913\")"
   ]
  },
  {
   "cell_type": "code",
   "execution_count": null,
   "id": "ac98cf1c-fe8e-420a-af35-17c6f6f189a1",
   "metadata": {},
   "outputs": [],
   "source": [
    "ApiEpflClient.fetch_unit_by_unique_id(\"10913\", format=\"epfl\")"
   ]
  },
  {
   "cell_type": "markdown",
   "id": "9de1da34-7629-4a3a-a626-412161a0fc60",
   "metadata": {},
   "source": [
    "### Retrieval Unpaywall "
   ]
  },
  {
   "cell_type": "markdown",
   "id": "f7a6add9-46a9-4d95-abfc-a0d6efeeb9bf",
   "metadata": {},
   "source": [
    "Pour un DOI :\n",
    "\n",
    "2 formats de sortie possibles : \n",
    "\n",
    "- **\"oa\"** : retourne les métadonnées\n",
    "  - is_oa\n",
    "  - oa_status\n",
    "- **\"oa-locations\" (default)** : retourne les métadonnées du format **oa** plus :\n",
    "  - pdf_urls : si is_oa est True + si oa_status est gold ou hybrid + si la version est \"publishedVersion\" avec license cc-by dans chaque oa_locations\n",
    "     "
   ]
  },
  {
   "cell_type": "markdown",
   "id": "8234e4f7-4e75-4509-8442-e7465f02dd24",
   "metadata": {},
   "source": [
    "**Todo : requête sur titre-auteur quand la publi n'a pas de doi**"
   ]
  },
  {
   "cell_type": "code",
   "execution_count": 1,
   "id": "eab53b70-3547-4611-984f-df53181f39d7",
   "metadata": {},
   "outputs": [],
   "source": [
    "from clients.unpaywall_client import UnpaywallClient"
   ]
  },
  {
   "cell_type": "code",
   "execution_count": null,
   "id": "5eebae4d-8e2f-462f-80a3-06bc5ab8abcc",
   "metadata": {},
   "outputs": [],
   "source": [
    "#param format default \"oa-locations\" (: renvoie is_oa, oa_status et pdf_urls. Autres formats : \"oa\" (seulement is_oa et oa_status) et \"upw\" (all)) \n",
    "UnpaywallClient.fetch_by_doi(\"10.1016/j.apenergy.2024.124273\")"
   ]
  },
  {
   "cell_type": "code",
   "execution_count": null,
   "id": "55d62357-e8e4-47f8-8f11-3c3665e28a3b",
   "metadata": {},
   "outputs": [],
   "source": [
    "UnpaywallClient.fetch_by_doi(\"10.1016/j.apenergy.2024.124273\", format=\"oa\")"
   ]
  },
  {
   "cell_type": "markdown",
   "id": "d7b8f0c6-6f14-4cce-8fda-b9d1044f79cb",
   "metadata": {},
   "source": [
    "## Autres clients de retrieval (inutilisés)"
   ]
  },
  {
   "cell_type": "markdown",
   "id": "132e4eb0-da98-4c10-a5ec-655a62356caa",
   "metadata": {},
   "source": [
    "### Retrieval service Istex orcidDisambiguation"
   ]
  },
  {
   "cell_type": "code",
   "execution_count": 4,
   "id": "0383d9be-e206-4407-9bd6-5365fd0b0c55",
   "metadata": {},
   "outputs": [],
   "source": [
    "from clients.services_istex_client import ServicesIstexClient"
   ]
  },
  {
   "cell_type": "code",
   "execution_count": null,
   "id": "1cefaab1-25e7-457e-887e-d602f67760e7",
   "metadata": {},
   "outputs": [],
   "source": [
    "# Retourne l'Orcid Id\n",
    "ServicesIstexClient.get_orcid_id(firstname=\"M.G.\", lastname=\"Preti\")"
   ]
  },
  {
   "cell_type": "markdown",
   "id": "abd81fff-bab9-4025-8f04-98f35c996298",
   "metadata": {},
   "source": [
    "### Retrieval API Orcid"
   ]
  },
  {
   "cell_type": "code",
   "execution_count": null,
   "id": "2d372b6d-005e-484d-b051-8d71dd8c6a7c",
   "metadata": {},
   "outputs": [],
   "source": [
    "from clients.orcid_client import OrcidClient"
   ]
  },
  {
   "cell_type": "code",
   "execution_count": null,
   "id": "775c614b-d84c-4a91-8e75-7abf38a449d6",
   "metadata": {},
   "outputs": [],
   "source": [
    "# le format par défaut est \"digest\"\n",
    "OrcidClient.fetch_record_by_unique_id(\"0000-0001-9511-1958\") # same as OrcidClient.fetch_record_by_unique_id(\"0000-0001-9511-1958\", format=\"digest\")"
   ]
  },
  {
   "cell_type": "code",
   "execution_count": null,
   "id": "0bd9e25b-5498-42cc-b5e5-0c62b07bc5b7",
   "metadata": {},
   "outputs": [],
   "source": [
    "OrcidClient.fetch_record_by_unique_id(\"0000-0001-9511-1958\", format=\"orcid\") # retourne le record Orcid complet"
   ]
  },
  {
   "cell_type": "code",
   "execution_count": null,
   "id": "e711a8fa-0169-4907-ba46-24de06e938ea",
   "metadata": {},
   "outputs": [],
   "source": [
    "ApiEpflClient.fetch_accred_by_unique_id(\"105958\", format=\"digest\")"
   ]
  },
  {
   "cell_type": "markdown",
   "id": "8048da59-2e3b-45a4-9966-debc14e909db",
   "metadata": {},
   "source": [
    "***"
   ]
  },
  {
   "cell_type": "markdown",
   "id": "b42c3605-704a-42ce-b195-84b40635820c",
   "metadata": {},
   "source": [
    "## Exemples d'utilisation des harvesters"
   ]
  },
  {
   "cell_type": "markdown",
   "id": "6eb5e037-1638-4988-983b-e6313a5c222f",
   "metadata": {},
   "source": [
    "Les harvesters permettent d'unifier le processus de moissonnage multi-sources et de produire les dataframes des publications"
   ]
  },
  {
   "cell_type": "code",
   "execution_count": null,
   "id": "25e98c25-bcd1-4874-97b2-27f99e517e8e",
   "metadata": {},
   "outputs": [],
   "source": [
    "from data_pipeline.harvester import WosHarvester, ScopusHarvester"
   ]
  },
  {
   "cell_type": "code",
   "execution_count": null,
   "id": "632504c9-2d81-4f5f-a55e-055ced32adfc",
   "metadata": {},
   "outputs": [],
   "source": [
    "default_queries = {\n",
    "        \"wos\": \"OG=(Ecole Polytechnique Federale de Lausanne)\",\n",
    "        \"scopus\": \"AF-ID(60028186) OR AF-ID(60210159) OR AF-ID(60070536) OR AF-ID(60204330) OR AF-ID(60070531) OR AF-ID(60070534) OR AF-ID(60070538) OR AF-ID(60014951) OR AF-ID(60070529) OR AF-ID(60070532) OR AF-ID(60070535) OR AF-ID(60122563) OR AF-ID(60210160) OR AF-ID(60204331)\",\n",
    "        \"openalex\": \"OPENALEX_QUERY_HERE\",  # Placeholder for OpenAlex query in the future ?\n",
    "        \"zenodo\": \"ZENODO_QUERY_HERE\"      # Placeholder for Zenodo query in teh future ?\n",
    "    }\n",
    "start_date = \"2024-07-01\"\n",
    "end_date = \"2024-07-10\""
   ]
  },
  {
   "cell_type": "markdown",
   "id": "920c3d6f-7ec6-4659-9d0a-d4374689c935",
   "metadata": {},
   "source": [
    "Par défaut le format de sortie est \"ifs3\""
   ]
  },
  {
   "cell_type": "code",
   "execution_count": null,
   "id": "9debfb6b-75a2-4b94-a726-bfd2434ce44d",
   "metadata": {},
   "outputs": [],
   "source": [
    "# Dataframe des publications WoS\n",
    "wos_harvester = WosHarvester(start_date, end_date, default_queries[\"wos\"])\n",
    "wos_publications = wos_harvester.harvest()"
   ]
  },
  {
   "cell_type": "code",
   "execution_count": null,
   "id": "a1650f85-0953-4d3f-a147-72614591c0bf",
   "metadata": {},
   "outputs": [],
   "source": [
    "# Dataframe des publications Scopus\n",
    "## format par défaut : ifs3\n",
    "scopus_harvester = ScopusHarvester(start_date, end_date, default_queries[\"scopus\"])\n",
    "scopus_publications = scopus_harvester.harvest()"
   ]
  },
  {
   "cell_type": "markdown",
   "id": "c2cfffa5-26df-4f7a-86d9-a38779a63c4f",
   "metadata": {},
   "source": [
    "***"
   ]
  },
  {
   "cell_type": "markdown",
   "id": "ea055c96-5f47-41e8-baa2-8cfe7cffbf21",
   "metadata": {},
   "source": [
    "## Dédoublonnage"
   ]
  },
  {
   "cell_type": "code",
   "execution_count": null,
   "id": "94fa2427-621d-4801-ba6b-b435fc8a961f",
   "metadata": {},
   "outputs": [],
   "source": [
    "from data_pipeline.deduplicator import DataFrameProcessor"
   ]
  },
  {
   "cell_type": "code",
   "execution_count": null,
   "id": "a24877d9-9f15-490b-b1f0-7fbd0396e85a",
   "metadata": {},
   "outputs": [],
   "source": [
    "# Merge \n",
    "deduplicator = DataFrameProcessor(wos_publications, scopus_publications)\n",
    "# Deduplicate the publications : first deduplicate operation between the sources\n",
    "deduplicated_sources_df = deduplicator.deduplicate_dataframes()\n",
    "# and second operation : filter by removing founded duplicates in Infoscience\n",
    "df_final,df_unloaded = deduplicator.deduplicate_infoscience(deduplicated_sources_df)\n",
    "# Generate main dataframes\n",
    "df_metadata, df_authors = deduplicator.generate_main_dataframes(df_final)"
   ]
  },
  {
   "cell_type": "code",
   "execution_count": null,
   "id": "d5e17754-abf0-4a49-aca8-63dbd14c233d",
   "metadata": {},
   "outputs": [],
   "source": [
    "df_metadata = pd.read_csv(\"harvested-data/2024_09_15/ResearchOutput.csv\", encoding=\"utf-8\")\n",
    "df_metadata"
   ]
  },
  {
   "cell_type": "markdown",
   "id": "6c3de719-5a14-4a6d-af87-9a4bc306d7f3",
   "metadata": {},
   "source": [
    "***"
   ]
  },
  {
   "cell_type": "markdown",
   "id": "e16e8041",
   "metadata": {},
   "source": [
    "## Reconciliation avec les autorités Infoscience"
   ]
  },
  {
   "cell_type": "code",
   "execution_count": null,
   "id": "fc810992",
   "metadata": {},
   "outputs": [],
   "source": [
    "from clients.dspace_client_wrapper import DSpaceClientWrapper\n",
    "\n",
    "dspace_wrapper = DSpaceClientWrapper()"
   ]
  },
  {
   "cell_type": "code",
   "execution_count": null,
   "id": "aad27f4f",
   "metadata": {},
   "outputs": [],
   "source": [
    "# query = \"0000-0002-8826-3870\"\n",
    "query = \"blanc f\"\n",
    "response = dspace_wrapper._search_authority(filter_text=query)\n",
    "print(response)\n",
    "sciper_id = dspace_wrapper.get_sciper_from_authority(response)\n",
    "\n",
    "print(f\"sciper : {sciper_id}\")"
   ]
  },
  {
   "cell_type": "markdown",
   "id": "486a8dfb",
   "metadata": {},
   "source": [
    "***"
   ]
  },
  {
   "cell_type": "markdown",
   "id": "f2114d82-88c1-4ba2-870e-13a3ede4834b",
   "metadata": {},
   "source": [
    "## Consolidation métadonnées auteurs avec Infoscience et api.epfl.ch"
   ]
  },
  {
   "cell_type": "code",
   "execution_count": null,
   "id": "0a7bcbed-3828-4e66-a110-93ea2e52e1ad",
   "metadata": {},
   "outputs": [],
   "source": [
    "from data_pipeline.enricher import AuthorProcessor"
   ]
  },
  {
   "cell_type": "code",
   "execution_count": null,
   "id": "04235f98-f150-4c59-a5d4-3ace79cca4c8",
   "metadata": {},
   "outputs": [],
   "source": [
    "df = pd.read_csv(\n",
    "    \"./harvested-data/2024_11_07-17_04_02/AddressesAndNames.csv\", encoding=\"utf-8\"\n",
    ")\n",
    "df.shape"
   ]
  },
  {
   "cell_type": "markdown",
   "id": "ca036680-4b49-421d-901b-5a1d0ef474ab",
   "metadata": {},
   "source": [
    "### Etape 1 : Détection des auteurs affiliés à l'EPFL + nettoyage des noms auteurs"
   ]
  },
  {
   "cell_type": "code",
   "execution_count": 5,
   "id": "763e0a42-f8b7-4146-bfdb-985d7ee61396",
   "metadata": {},
   "outputs": [],
   "source": [
    "# epfl_affiliation = True/False\n",
    "processor = AuthorProcessor(df)\n",
    "df_aff = processor.process(return_df=True)"
   ]
  },
  {
   "cell_type": "code",
   "execution_count": null,
   "id": "9ecaae02-615b-474c-be79-f07e732f39d8",
   "metadata": {},
   "outputs": [],
   "source": [
    "# filtre sur les auteurs EPFL\n",
    "processor = AuthorProcessor(df_aff)\n",
    "df_epfl = processor.filter_epfl_authors(return_df=True)\n",
    "df_epfl.shape"
   ]
  },
  {
   "cell_type": "code",
   "execution_count": null,
   "id": "00e8d486-69dc-48cb-9b87-cebf0b80ebc9",
   "metadata": {},
   "outputs": [],
   "source": [
    "# nouvelles colonnes \"author_cleaned\", \"nameparse_firstanme\" et \"nameparse_lastname\")\n",
    "processor = AuthorProcessor(df_epfl)\n",
    "df_cleaned_names = processor.clean_authors().nameparse_authors(return_df=True)\n",
    "df_cleaned_names.shape"
   ]
  },
  {
   "cell_type": "code",
   "execution_count": null,
   "id": "7b4a742f-39bd-47d7-af54-90d5a5fa034b",
   "metadata": {},
   "outputs": [],
   "source": [
    "df_cleaned_names"
   ]
  },
  {
   "cell_type": "markdown",
   "id": "17b579ae-e43b-41db-b0e2-a9c5d190b2ba",
   "metadata": {},
   "source": [
    "### Etape 2 : Récupération des infos des unités via api.epfl.ch"
   ]
  },
  {
   "cell_type": "markdown",
   "id": "46b80595-fcf5-4ee2-9d20-b01a2aaa5345",
   "metadata": {},
   "source": [
    "Pour chaque auteur :\n",
    "\n",
    "- requêtage api.epfl.ch/persons sur le triplet author_name|nameparse_firstname|namepars_lastname pour obtenir un sciper_id\n",
    "- requêtage api.pefl.ch/accreds sur le sciper_id pour obtenir l'unité principale\n",
    "  - on récupère d'abord toutes les unités de l'auteur dans accred en respectant l'ordre\n",
    "  - on enrichit chaque unité en requêtant api.epfl.ch/units sur le unit_id pour obtenir le unittype\n",
    "  - on boucle sur la liste des unités jusqu'à trouver une unité de type 'Laboratoire'\n",
    "    - si on trouve une telle unité on retourne la paire unit-id|unit_name correspondante\n",
    "    - si on ne trouve pas d'uniét de type 'Laboratoire' on retourne al paire unit_id|unit_name de la 1ère occurence dans accred"
   ]
  },
  {
   "cell_type": "code",
   "execution_count": null,
   "id": "4390bf7f-358c-41da-b1d9-cb7556a83fa3",
   "metadata": {},
   "outputs": [],
   "source": [
    "processor = AuthorProcessor(df_cleaned_names)\n",
    "df_api_epfl_infos = processor.api_epfl_reconciliation(return_df=True)"
   ]
  },
  {
   "cell_type": "code",
   "execution_count": null,
   "id": "4d6a571c-9644-46d8-bba8-f627820c4034",
   "metadata": {},
   "outputs": [],
   "source": [
    "df_api_epfl_infos"
   ]
  },
  {
   "cell_type": "markdown",
   "id": "b56bc83b-dc9d-4b6a-8fd1-9bf07148dc59",
   "metadata": {},
   "source": [
    "### Etape 3 : recherche dans les entités Dspace (ajout des uuid des entités auteurs si trouvés dans DSpace)"
   ]
  },
  {
   "cell_type": "code",
   "execution_count": null,
   "id": "730b5eeb-9d75-4c94-85b6-09b4c67d5a59",
   "metadata": {},
   "outputs": [],
   "source": [
    "Pour chaque auteur : \n",
    "\n",
    "- requête du client DSpace sur le sciper_id s'il a été récupéré\n",
    "- sinon requête du client Dspace sur le author_name"
   ]
  },
  {
   "cell_type": "code",
   "execution_count": null,
   "id": "e6ef2f51-f44d-47e2-9546-d5c6b64e621a",
   "metadata": {},
   "outputs": [],
   "source": [
    "processor = AuthorProcessor(df_api_epfl_infos)\n",
    "df_dspace_infos = processor.generate_dspace_uuid(return_df=True)"
   ]
  },
  {
   "cell_type": "code",
   "execution_count": null,
   "id": "222c0f56-1b10-4617-a4b8-16ddad329066",
   "metadata": {},
   "outputs": [],
   "source": [
    "df_dspace_infos"
   ]
  },
  {
   "cell_type": "markdown",
   "id": "7482380b-73f4-4531-ad92-f68f0a4a8f5f",
   "metadata": {},
   "source": [
    "### All in one :  pipeline"
   ]
  },
  {
   "cell_type": "code",
   "execution_count": null,
   "id": "2152cf2d-e429-4d8c-8d89-9117c1fb499c",
   "metadata": {},
   "outputs": [],
   "source": [
    "processor = AuthorProcessor(df)\n",
    "df_api_epfl_infos = (processor\n",
    "                     .process()\n",
    "                     .filter_epfl_authors()\n",
    "                     .clean_authors()\n",
    "                     .nameparse_authors()\n",
    "                     .api_epfl_reconciliation()\n",
    "                     .generate_dspace_uuid(return_df=True)\n",
    "                    ) "
   ]
  },
  {
   "cell_type": "markdown",
   "id": "74fe08d9-a150-4902-9914-734bb99bef30",
   "metadata": {},
   "source": [
    "### Etapes complémentaires (inutilisées)"
   ]
  },
  {
   "cell_type": "code",
   "execution_count": null,
   "id": "eab3a6c0-9242-4391-bbf4-48dfbe4032f4",
   "metadata": {},
   "outputs": [],
   "source": [
    "processor = AuthorProcessor(df_cleaned_names[0:20])\n",
    "df_api_epfl_infos = processor.services_istex_orcid_reconciliation().orcid_data_reconciliation(return_df=True)"
   ]
  },
  {
   "cell_type": "code",
   "execution_count": null,
   "id": "5da160f4-efd3-48d6-b37a-acfc7a82b799",
   "metadata": {},
   "outputs": [],
   "source": [
    "processor = Processor(df)\n",
    "df_api_epfl_infos = (processor\n",
    "                     .process()\n",
    "                     .filter_epfl_authors()\n",
    "                     .clean_authors()\n",
    "                     .nameparse_authors()\n",
    "                     .api_epfl_reconciliation()\n",
    "                     .services_istex_orcid_reconciliation()\n",
    "                     .orcid_data_reconciliation()\n",
    "                     .api_epfl_reconciliation()\n",
    "                     .generate_dspace_uuid(return_df=True)\n",
    "                    )                    "
   ]
  },
  {
   "cell_type": "markdown",
   "id": "beb989c2-11ec-40a6-9e7f-2977761b0e85",
   "metadata": {},
   "source": [
    "***"
   ]
  },
  {
   "cell_type": "markdown",
   "id": "c5828460-06ba-4bc9-aa85-d53399dfba14",
   "metadata": {},
   "source": [
    "## Consolidation métadonnées publications avec le client Unpaywall"
   ]
  },
  {
   "cell_type": "markdown",
   "id": "88a67cbf-7242-4396-b427-13f95680ed7d",
   "metadata": {},
   "source": [
    "Pour chaque publi :\n",
    "\n",
    "- requêtage unpaywall sur le DOI\n",
    "  - on récupère d'abord les principaux attributs OA : is_oa et oa_status\n",
    "  - Si is_oa est True :\n",
    "    - on boucle sur la liste des unités jusqu'à trouver une unité de type 'Laboratoire'\n",
    "    - si on trouve une telle unité on retourne la paire unit-id|unit_name correspondante\n",
    "    - si on ne trouve pas d'uniét de type 'Laboratoire' on retourne al paire unit_id|unit_name de la 1ère occurence dans accred"
   ]
  },
  {
   "cell_type": "code",
   "execution_count": 3,
   "id": "fa4377a6-4960-4408-98f2-04abd113fc79",
   "metadata": {},
   "outputs": [],
   "source": [
    "from data_pipeline.enricher import PublicationProcessor"
   ]
  },
  {
   "cell_type": "code",
   "execution_count": null,
   "id": "60acf827-abce-4a22-9d96-d70852779281",
   "metadata": {},
   "outputs": [],
   "source": [
    "df_metadata = pd.read_csv(\"harvested-data/2024_09_15/ResearchOutput.csv\", encoding=\"utf-8\")\n",
    "df_metadata.shape"
   ]
  },
  {
   "cell_type": "code",
   "execution_count": null,
   "id": "7e7529fd-7e99-4132-af25-98949133f831",
   "metadata": {},
   "outputs": [],
   "source": [
    "processor = PublicationProcessor(df_metadata)\n",
    "df_upw_metadata = processor.process(return_df=True)"
   ]
  },
  {
   "cell_type": "markdown",
   "id": "dea0ec5c",
   "metadata": {},
   "source": []
  },
  {
   "cell_type": "code",
   "execution_count": null,
   "id": "20cbed8f-6df5-4a72-82eb-573dbd6607d1",
   "metadata": {},
   "outputs": [],
   "source": [
    "df_upw_metadata"
   ]
  },
  {
   "cell_type": "markdown",
   "id": "2e2eb3ed-e6cf-4053-b8ae-2c117bfc2b0a",
   "metadata": {},
   "source": [
    "## Loader"
   ]
  },
  {
   "cell_type": "code",
   "execution_count": null,
   "id": "413c15c1-edbc-4959-b178-93b368d6a76d",
   "metadata": {},
   "outputs": [],
   "source": [
    "from data_pipeline.loader import Loader"
   ]
  },
  {
   "cell_type": "code",
   "execution_count": null,
   "id": "52d5d92c-f3e6-404d-a55a-ac0a9151c900",
   "metadata": {},
   "outputs": [],
   "source": [
    "# Create publications in Dspace\n",
    "Loader.create_complete_publication(df_metadata)\n",
    "#  WIP Create or update person entities in Dspace\n",
    "Loader.manage_person(df_api_epfl_info)"
   ]
  }
 ],
 "metadata": {
  "kernelspec": {
   "display_name": "Python 3",
   "language": "python",
   "name": "python3"
  },
  "language_info": {
   "codemirror_mode": {
    "name": "ipython",
    "version": 3
   },
   "file_extension": ".py",
   "mimetype": "text/x-python",
   "name": "python",
   "nbconvert_exporter": "python",
   "pygments_lexer": "ipython3",
   "version": "3.11.3"
  }
 },
 "nbformat": 4,
 "nbformat_minor": 5
}
