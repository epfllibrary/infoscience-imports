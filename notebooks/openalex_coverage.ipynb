{
 "cells": [
  {
   "cell_type": "markdown",
   "id": "13de484b-d51e-43dd-9c26-c4c42b02c215",
   "metadata": {},
   "source": [
    "# Calculate coverage between Infoscience and OpenAlex"
   ]
  },
  {
   "cell_type": "code",
   "execution_count": null,
   "id": "c5d2fa12",
   "metadata": {},
   "outputs": [],
   "source": [
    "import sys\n",
    "import os\n",
    "\n",
    "sys.path.append(os.path.abspath(\"..\"))"
   ]
  },
  {
   "cell_type": "code",
   "execution_count": null,
   "id": "b4ec18b5",
   "metadata": {},
   "outputs": [],
   "source": [
    "from data_pipeline.main_openalex import main\n",
    "from datetime import datetime"
   ]
  },
  {
   "cell_type": "code",
   "execution_count": null,
   "id": "c8399ce3",
   "metadata": {},
   "outputs": [],
   "source": [
    "# Création du dossier avec la date actuelle\n",
    "current_datetime = datetime.now().strftime(\"%Y_%m_%d-%H_%M_%S\")\n",
    "folder_path = \"harvested-data\"\n",
    "os.makedirs(folder_path, exist_ok=True)\n",
    "path = os.path.join(folder_path, current_datetime)\n",
    "\n",
    "if not os.path.exists(path):\n",
    "    os.mkdir(path)"
   ]
  },
  {
   "cell_type": "code",
   "execution_count": null,
   "id": "04d0e685",
   "metadata": {},
   "outputs": [],
   "source": [
    "# Exécution du workflow\n",
    "start = \"2023-01-01\"\n",
    "end = \"2024-01-01\"\n",
    "df_metadata, df_authors, df_epfl_authors, df_unloaded = main(\n",
    "    start_date=start, end_date=end\n",
    ")"
   ]
  },
  {
   "cell_type": "code",
   "execution_count": null,
   "id": "f31d1cac",
   "metadata": {},
   "outputs": [],
   "source": [
    "# Sauvegarde des données au format CSV\n",
    "df_metadata.to_csv(\n",
    "    os.path.join(path, \"ResearchOutput.csv\"), index=False, encoding=\"utf-8\"\n",
    ")\n",
    "df_authors.to_csv(\n",
    "    os.path.join(path, \"AddressesAndNames.csv\"), index=False, encoding=\"utf-8\"\n",
    ")\n",
    "df_epfl_authors.to_csv(\n",
    "    os.path.join(path, \"EpflAuthors.csv\"), index=False, encoding=\"utf-8\"\n",
    ")\n",
    "df_unloaded.to_csv(\n",
    "    os.path.join(path, \"UnloadedDuplicatedPublications.csv\"),\n",
    "    index=False,\n",
    "    encoding=\"utf-8\",\n",
    ")"
   ]
  },
  {
   "cell_type": "markdown",
   "id": "cfef216f-9204-43ce-a868-07813cdfb806",
   "metadata": {},
   "source": [
    "***"
   ]
  }
 ],
 "metadata": {
  "kernelspec": {
   "display_name": "Python 3",
   "language": "python",
   "name": "python3"
  },
  "language_info": {
   "codemirror_mode": {
    "name": "ipython",
    "version": 3
   },
   "file_extension": ".py",
   "mimetype": "text/x-python",
   "name": "python",
   "nbconvert_exporter": "python",
   "pygments_lexer": "ipython3",
   "version": "3.11.9"
  }
 },
 "nbformat": 4,
 "nbformat_minor": 5
}
