{
 "cells": [
  {
   "cell_type": "markdown",
   "id": "13de484b-d51e-43dd-9c26-c4c42b02c215",
   "metadata": {},
   "source": [
    "# Import WOS & Scopus to Infoscience"
   ]
  },
  {
   "cell_type": "code",
   "execution_count": 1,
   "id": "b4ec18b5",
   "metadata": {},
   "outputs": [],
   "source": [
    "from data_pipeline.main import main\n",
    "import pandas as pd\n",
    "import logging\n",
    "import ipywidgets as widgets\n",
    "from ipywidgets import Layout\n",
    "from IPython.display import display, Markdown, HTML\n",
    "from datetime import date\n",
    "import os, base64"
   ]
  },
  {
   "cell_type": "code",
   "execution_count": 2,
   "id": "b3b50852-f511-476e-9d22-ab22a010b0c6",
   "metadata": {
    "tags": []
   },
   "outputs": [],
   "source": [
    "# common functions ###############################\n",
    "def create_download_link(filename, title = \"Cliquer ici pour télécharger le fichier : \"):  \n",
    "    data = open(filename, \"rb\").read()\n",
    "    b64 = base64.b64encode(data)\n",
    "    payload = b64.decode()\n",
    "    html = '<a download=\"{filename}\" href=\"data:text/csv;base64,{payload}\" target=\"_blank\">{title}</a>'\n",
    "    html = html.format(payload=payload,title=title+f' {filename}',filename=filename)\n",
    "    return HTML(html)"
   ]
  },
  {
   "cell_type": "markdown",
   "id": "cfef216f-9204-43ce-a868-07813cdfb806",
   "metadata": {},
   "source": [
    "***"
   ]
  },
  {
   "cell_type": "markdown",
   "id": "b2b841ae-590e-4ae3-b484-1899f17d32b4",
   "metadata": {},
   "source": [
    "## Etape 1 : Récupération des publications EPFL (métadonnées, auteurs, affiliations) depuis les bases biblios externes, dédoublonnage entre sources et dédoublonnage sur publications déjà présentes dans Infoscience"
   ]
  },
  {
   "cell_type": "code",
   "execution_count": 3,
   "id": "a62ea6ca",
   "metadata": {},
   "outputs": [],
   "source": [
    "### Workflow metadata #####################\n",
    "current_date = str(date.today())\n",
    "folder_path = \"harvested-data\"\n",
    "path = os.path.join(folder_path, str(current_date).replace(\"-\", \"_\"))\n",
    "if not os.path.exists(path):\n",
    "    os.mkdir(path)\n",
    "\n",
    "### ipywidgets config #########################\n",
    "style = {'description_width': 'initial'}\n",
    "spinner_output = widgets.Output()"
   ]
  },
  {
   "cell_type": "markdown",
   "id": "76d1ade5-1c20-426b-91a5-a97bd25c6e84",
   "metadata": {},
   "source": [
    "**`main.py`** : The default queries are the ones that identifify and harvest the publications of the EPFL institutions\n",
    "\n",
    "- WoS : \"OG=(Ecole Polytechnique Federale de Lausanne)\"\n",
    "- Scopus : \"AF-ID(60028186) OR AF-ID(60210159) OR AF-ID(60070536) OR AF-ID(60204330) OR AF-ID(60070531) OR AF-ID(60070534) OR AF-ID(60070538) OR AF-ID(60014951) OR AF-ID(60070529) OR AF-ID(60070532) OR AF-ID(60070535) OR AF-ID(60122563) OR AF-ID(60210160) OR AF-ID(60204331)\"\n",
    "\n",
    "These queries are completed by the selected data range as parameters\n",
    "\n",
    "**notebook** : To overwrite and customize the default queries:\n",
    "```\n",
    "custom_queries = {\n",
    "    \"wos\": \"OG=(Your Custom Query for WOS)\",\n",
    "    \"scopus\": \"AF-ID(Your Custom Scopus ID)\",\n",
    "    \"openalex\": \"YOUR_CUSTOM_OPENALEX_QUERY\",\n",
    "    \"zenodo\": \"YOUR_CUSTOM_ZENODO_QUERY\"\n",
    "}\n",
    "df_metadata, df_authors, df_unloaded = main(start_date=\"2023-01-01\", end_date=\"2023-12-31\", queries=custom_queries)\n",
    "```"
   ]
  },
  {
   "cell_type": "code",
   "execution_count": 4,
   "id": "e8697952-1eb3-44c9-88f6-4c7e251cdcd5",
   "metadata": {},
   "outputs": [
    {
     "data": {
      "application/vnd.jupyter.widget-view+json": {
       "model_id": "9a4cb1cafef040d692225d12d893182e",
       "version_major": 2,
       "version_minor": 0
      },
      "text/plain": [
       "DatePicker(value=Timestamp('2024-07-22 00:00:00'), description='Date de publication postérieure au : ', layout…"
      ]
     },
     "metadata": {},
     "output_type": "display_data"
    },
    {
     "data": {
      "application/vnd.jupyter.widget-view+json": {
       "model_id": "9a3ae6e2f78949ca8dc9be8193eae4f6",
       "version_major": 2,
       "version_minor": 0
      },
      "text/plain": [
       "DatePicker(value=Timestamp('2024-08-01 00:00:00'), description='Date de publication antérieure au : ', layout=…"
      ]
     },
     "metadata": {},
     "output_type": "display_data"
    },
    {
     "data": {
      "application/vnd.jupyter.widget-view+json": {
       "model_id": "f074dfddedf84ead817f7f9bce5ce808",
       "version_major": 2,
       "version_minor": 0
      },
      "text/plain": [
       "Button(description='Harvest WOS and Scopus', style=ButtonStyle())"
      ]
     },
     "metadata": {},
     "output_type": "display_data"
    },
    {
     "data": {
      "application/vnd.jupyter.widget-view+json": {
       "model_id": "991686289a39434a96dbee1e6942b5ac",
       "version_major": 2,
       "version_minor": 0
      },
      "text/plain": [
       "Output()"
      ]
     },
     "metadata": {},
     "output_type": "display_data"
    },
    {
     "data": {
      "application/vnd.jupyter.widget-view+json": {
       "model_id": "9593409cd9ca4033a2d6e79d9aa1ae9b",
       "version_major": 2,
       "version_minor": 0
      },
      "text/plain": [
       "Output()"
      ]
     },
     "metadata": {},
     "output_type": "display_data"
    }
   ],
   "source": [
    "start_date = widgets.DatePicker(\n",
    "    description='Date de publication postérieure au : ',\n",
    "    value=pd.to_datetime('2024-07-22'),\n",
    "    disabled=False,\n",
    "    style=style,\n",
    "    layout = Layout(width='50%', height='30px', display='flex')\n",
    ")\n",
    "\n",
    "end_date = widgets.DatePicker(\n",
    "    description=\"Date de publication antérieure au : \",\n",
    "    value=pd.to_datetime(\"2024-08-01\"),\n",
    "    disabled=False,\n",
    "    style=style,\n",
    "    layout=Layout(width=\"50%\", height=\"30px\", display=\"flex\"),\n",
    ")\n",
    "\n",
    "harvest_button = widgets.Button(description=\"Harvest WOS and Scopus\")\n",
    "harvest_output = widgets.Output()\n",
    "\n",
    "display(start_date, end_date,harvest_button, harvest_output, spinner_output)\n",
    "\n",
    "def harvest_button_clicked(b):\n",
    "    with spinner_output:\n",
    "        display(widgets.HTML(\"<p>Chargement en cours...</p>\"))\n",
    "    with harvest_output:\n",
    "        start = start_date.value.strftime('%Y-%m-%d')\n",
    "        end = end_date.value.strftime('%Y-%m-%d')\n",
    "        df_metadata, df_authors, df_unloaded = main(start_date=start, end_date=end)\n",
    "        df_metadata.to_csv(\n",
    "                       os.path.join(path, \"ResearchOutput.csv\"), index=False, encoding=\"utf-8\")\n",
    "        df_authors.to_csv(\n",
    "                       os.path.join(path, \"AddressesAndNames.csv\"), index=False, encoding=\"utf-8\")\n",
    "        df_unloaded.to_csv(\n",
    "                       os.path.join(path, \"UnloadedDuplicatedPublications.csv\"), index=False, encoding=\"utf-8\")\n",
    "        # Liens de téléchargement\n",
    "        display(create_download_link(os.path.join(path,\"ResearchOutput.csv\")))\n",
    "        display(create_download_link(os.path.join(path,\"AddressesAndNames.csv\")))\n",
    "        display(create_download_link(os.path.join(path,\"UnloadedDuplicatedPublications.csv\")))\n",
    "        spinner_output.clear_output()\n",
    "\n",
    "harvest_button.on_click(harvest_button_clicked)"
   ]
  },
  {
   "cell_type": "markdown",
   "id": "6b3abef8-7809-413f-a630-626208d34946",
   "metadata": {},
   "source": [
    "***"
   ]
  },
  {
   "cell_type": "markdown",
   "id": "239b8ee2-804d-4443-b9ee-207cb3353ad2",
   "metadata": {},
   "source": [
    "## Etape 2 : Enrichissements des entités auteurs à partir de api.epfl.ch"
   ]
  },
  {
   "cell_type": "markdown",
   "id": "c93e45f9-affa-4097-b9fc-6edb8df3821c",
   "metadata": {},
   "source": [
    "***"
   ]
  },
  {
   "cell_type": "markdown",
   "id": "642f047f",
   "metadata": {},
   "source": [
    "## Etape 3 : Importation en tant que workspace items dans DSpace"
   ]
  },
  {
   "cell_type": "code",
   "execution_count": null,
   "id": "69d4f876-4962-4112-97d4-8b962e008d35",
   "metadata": {
    "tags": []
   },
   "outputs": [],
   "source": [
    "def wos_to_dspace():\n",
    "    df = pd.read_csv(\n",
    "        os.path.join(path, \"ResearchOutput.csv\"), sep=\",\", encoding=\"utf-8\"\n",
    "    )\n",
    "    if \"workspace_item_id\" not in df.columns:\n",
    "        df[\"workspace_item_id\"] = None\n",
    "\n",
    "    # Instantiate DSpace client\n",
    "    d = DSpaceClient()\n",
    "\n",
    "    # Authenticate against the DSpace client\n",
    "    authenticated = d.authenticate()\n",
    "    collection_id = \"8a8d3310-6535-4d3a-90b6-2a4428097b5b\"\n",
    "\n",
    "    ids_to_workspace = df[\"wos_id\"].tolist()\n",
    "    for index, wos_id in enumerate(ids_to_workspace):\n",
    "        response = d.create_workspaceitem_from_external_source(\"wos\", wos_id, collection_id)\n",
    "\n",
    "        workspace_id = response.get(\"id\")\n",
    "        units = utils.get_units_for_id(path, wos_id)\n",
    "        sponsorships = []\n",
    "        for unit in units:\n",
    "            sponsorships.append(\n",
    "                {\n",
    "                    \"value\": unit.get(\"acro\"),\n",
    "                    \"language\": None,\n",
    "                    \"authority\": f\"will be referenced::ACRONYM::{unit.get('acro')}\",\n",
    "                    \"securityLevel\": 0,\n",
    "                    \"confidence\": 400,\n",
    "                    \"place\": 0,\n",
    "                }\n",
    "            )\n",
    "\n",
    "        patch_operations = [\n",
    "            {\n",
    "                \"op\": \"add\",\n",
    "                \"path\": \"/sections/article_details/dc.language.iso\",\n",
    "                \"value\": [\n",
    "                    {\n",
    "                        \"value\": \"en\",\n",
    "                        \"language\": None,\n",
    "                        \"authority\": None,\n",
    "                        \"display\": \"English\",\n",
    "                        \"securityLevel\": 0,\n",
    "                        \"confidence\": -1,\n",
    "                        \"place\": 0,\n",
    "                        \"otherInformation\": None,\n",
    "                    }\n",
    "                ],\n",
    "            },\n",
    "            {\n",
    "                \"op\": \"add\",\n",
    "                \"path\": \"/sections/article_details/dc.description.sponsorship\",\n",
    "                \"value\": sponsorships,\n",
    "            },\n",
    "            {\n",
    "                \"op\": \"add\",\n",
    "                \"path\": \"/sections/article_details/epfl.peerreviewed\",\n",
    "                \"value\": [\n",
    "                    {\n",
    "                        \"value\": \"REVIEWED\",\n",
    "                        \"language\": None,\n",
    "                        \"authority\": None,\n",
    "                        \"display\": \"REVIEWED\",\n",
    "                        \"securityLevel\": 0,\n",
    "                        \"confidence\": -1,\n",
    "                        \"place\": 0,\n",
    "                        \"otherInformation\": None,\n",
    "                    }\n",
    "                ],\n",
    "            },\n",
    "            {\n",
    "                \"op\": \"add\",\n",
    "                \"path\": \"/sections/article_details/epfl.writtenAt\",\n",
    "                \"value\": [\n",
    "                    {\n",
    "                        \"value\": \"EPFL\",\n",
    "                        \"language\": None,\n",
    "                        \"authority\": None,\n",
    "                        \"display\": \"EPFL\",\n",
    "                        \"securityLevel\": 0,\n",
    "                        \"confidence\": -1,\n",
    "                        \"place\": 0,\n",
    "                        \"otherInformation\": None,\n",
    "                    }\n",
    "                ],\n",
    "            },\n",
    "            {\"op\": \"add\", \"path\": \"/sections/license/granted\", \"value\": \"true\"},\n",
    "        ]\n",
    "        df.at[index, \"workspace_item_id\"] = workspace_id\n",
    "        try:\n",
    "            update_response = d.update_workspaceitem(workspace_id, patch_operations)\n",
    "            if update_response:\n",
    "                try:\n",
    "                    wf_response = d.create_workflowitem(workspace_id)\n",
    "                    logging.info(f\"Workflow item #{workspace_id} created\")\n",
    "                except Exception as e:\n",
    "                    logging.error(\n",
    "                        f\"An error occurred while creating workflow item: {str(e)}\"\n",
    "                    )\n",
    "            else:\n",
    "                logging.error(\n",
    "                    f\"Failed to update workspace item with ID: {workspace_id}\"\n",
    "                )\n",
    "        except Exception as e:\n",
    "            logging.error(f\"An error occurred while updating workspace item: {str(e)}\")\n",
    "\n",
    "    df.to_csv(\n",
    "        os.path.join(path, \"ResearchOutput.csv\"), sep=\",\", encoding=\"utf-8\", index=False\n",
    "    )\n",
    "\n",
    "# create workspace and workflow items\n",
    "wos_to_dspace()"
   ]
  }
 ],
 "metadata": {
  "kernelspec": {
   "display_name": "venv_ifs3_imports",
   "language": "python",
   "name": "venv_ifs3_imports"
  },
  "language_info": {
   "codemirror_mode": {
    "name": "ipython",
    "version": 3
   },
   "file_extension": ".py",
   "mimetype": "text/x-python",
   "name": "python",
   "nbconvert_exporter": "python",
   "pygments_lexer": "ipython3",
   "version": "3.11.10"
  }
 },
 "nbformat": 4,
 "nbformat_minor": 5
}
