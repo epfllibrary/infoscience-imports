{
 "cells": [
  {
   "cell_type": "markdown",
   "id": "ae410b1f-2d72-4f9c-873b-7eded7efd7d3",
   "metadata": {},
   "source": [
    "# Import WOS & Scopus vers Infoscience : documentation des classes & fonctions + exemples"
   ]
  },
  {
   "cell_type": "code",
   "execution_count": 1,
   "id": "bc50194d-f5fb-440e-8115-a3b452b6c9e4",
   "metadata": {},
   "outputs": [],
   "source": [
    "import pandas as pd\n",
    "import os, logging\n",
    "from dotenv import load_dotenv\n",
    "import logging"
   ]
  },
  {
   "cell_type": "code",
   "execution_count": 2,
   "id": "a953b205-5146-4286-9f53-b79d565a7fcf",
   "metadata": {},
   "outputs": [
    {
     "data": {
      "text/plain": [
       "True"
      ]
     },
     "execution_count": 2,
     "metadata": {},
     "output_type": "execute_result"
    }
   ],
   "source": [
    "# env var\n",
    "load_dotenv(os.path.join(os.getcwd(), \".env\"))"
   ]
  },
  {
   "cell_type": "markdown",
   "id": "dc09a5b6-d5df-4022-8174-6f35b4af2317",
   "metadata": {},
   "source": [
    "***"
   ]
  },
  {
   "cell_type": "markdown",
   "id": "3cdbacdc-c5b5-4bc8-92be-68f21a50a952",
   "metadata": {},
   "source": [
    "## Exemples d'utilisation des clients"
   ]
  },
  {
   "cell_type": "code",
   "execution_count": 3,
   "id": "b7281f7a-f2d9-47d7-bd1b-0bce2892cf9b",
   "metadata": {},
   "outputs": [],
   "source": [
    "from clients.wos_client_v2 import WosClient\n",
    "from clients.scopus_client import ScopusClient"
   ]
  },
  {
   "cell_type": "code",
   "execution_count": 4,
   "id": "f8e3d898-2cb0-43c7-bb97-999a424b8388",
   "metadata": {},
   "outputs": [],
   "source": [
    "wos_epfl_query = \"OG=(Ecole Polytechnique Federale de Lausanne)\"\n",
    "scopus_epfl_query = \"AF-ID(60028186) AND (ORIG-LOAD-DATE AFT 20240722) AND (ORIG-LOAD-DATE BEF 20240831)\" # pour Scopus le range de dates fait partie de la query\n",
    "createdTimeSpan = \"2024-01-01+2024-01-03\" # Pour le WoS le range de date est un paramètre supplémentaire"
   ]
  },
  {
   "cell_type": "markdown",
   "id": "3c418dfd-fba5-4681-90bb-481411315190",
   "metadata": {},
   "source": [
    "### Nombre total de résultats"
   ]
  },
  {
   "cell_type": "code",
   "execution_count": null,
   "id": "944cc810-220d-46a7-8920-1f47d902d5a0",
   "metadata": {},
   "outputs": [],
   "source": [
    "## WoS\n",
    "WosClient.count_results(usrQuery=wos_epfl_query)\n",
    "WosClient.count_results(usrQuery=wos_epfl_query, createdTimeSpan=createdTimeSpan)"
   ]
  },
  {
   "cell_type": "code",
   "execution_count": null,
   "id": "b51e1c16-d951-4ad6-8971-196b7b4895ef",
   "metadata": {},
   "outputs": [],
   "source": [
    "## Scopus\n",
    "ScopusClient.count_results(query=scopus_epfl_query)"
   ]
  },
  {
   "cell_type": "markdown",
   "id": "c955aa8d-67cf-4278-a6a8-c9b9d66c8c39",
   "metadata": {},
   "source": [
    "### Récupération des IDs Scopus et WoS"
   ]
  },
  {
   "cell_type": "markdown",
   "id": "a0f0245f-e93e-4098-b6e0-faa53b8b294a",
   "metadata": {},
   "source": [
    "Par défaut count = 10 "
   ]
  },
  {
   "cell_type": "code",
   "execution_count": null,
   "id": "a5825330-68e3-4887-be59-c4ef697a693f",
   "metadata": {},
   "outputs": [],
   "source": [
    "## WoS\n",
    "WosClient.fetch_ids(usrQuery=wos_epfl_query, count=50,createdTimeSpan=createdTimeSpan)"
   ]
  },
  {
   "cell_type": "code",
   "execution_count": null,
   "id": "f9acda94-bd3a-4b28-aec7-103c3552195d",
   "metadata": {},
   "outputs": [],
   "source": [
    "## Scopus\n",
    "ScopusClient.fetch_ids(query=scopus_epfl_query)"
   ]
  },
  {
   "cell_type": "code",
   "execution_count": null,
   "id": "52728020-516b-4cc8-8c66-e49e16dc25a3",
   "metadata": {},
   "outputs": [],
   "source": [
    "## Loop\n",
    "total = ScopusClient.count_results(query=scopus_epfl_query)\n",
    "count = 5\n",
    "ids = []\n",
    "for i in range(1, int(total), int(count)):\n",
    "    ids.extend(ScopusClient.fetch_ids(query = scopus_epfl_query, count = count, start =i))"
   ]
  },
  {
   "cell_type": "markdown",
   "id": "6770fb70-1c67-4b15-8336-47d08703fd44",
   "metadata": {},
   "source": [
    "### Extraction des métadonnées"
   ]
  },
  {
   "cell_type": "markdown",
   "id": "db7ee434-8e9e-4ef3-ac23-79d12439292d",
   "metadata": {},
   "source": [
    "4 formats de sortie possibles :\n",
    "\n",
    "- \"**digest**\" (défault) :retourne les métadonnées\n",
    "  - source\n",
    "  - internal_id\n",
    "  - doi\n",
    "  - title\n",
    "  - doctype\n",
    "  - pubyear\n",
    "- \"**digest-ifs3**\" : retourne les métadonnées du format **digest** plus\n",
    "  - ifs3_doctype (nom de la collection Infoscience)\n",
    "  - ifs3_collection_id (uuid de la collection Infoscience)\n",
    "- \"**ifs3**\" : retourne les métadonnnées du format **digest-ifs3** plus\n",
    "  - authors : liste d'objets auteur comprenant les métadonnées :\n",
    "    - author (nom de l'auteur)\n",
    "    - internal_author_id\n",
    "    - orcid_id,\n",
    "    - organizations\n",
    "    - sub_organizations\n",
    "- \"**scopus**\" ou \"**wos**\" : formats natifs du WoS ou Scopus\n"
   ]
  },
  {
   "cell_type": "markdown",
   "id": "70da303e-620c-497a-8b41-f5a017ccd982",
   "metadata": {},
   "source": [
    "Par défault le format de sortie est \"digest\""
   ]
  },
  {
   "cell_type": "code",
   "execution_count": null,
   "id": "6a1cd480-39c4-4f83-abd2-603d84ad531c",
   "metadata": {},
   "outputs": [],
   "source": [
    "# WoS format digest\n",
    "WosClient.fetch_records(usrQuery=wos_epfl_query,count=2,createdTimeSpan=createdTimeSpan)"
   ]
  },
  {
   "cell_type": "code",
   "execution_count": null,
   "id": "2ee2226d-9e19-40be-94d5-a32b984592a8",
   "metadata": {},
   "outputs": [],
   "source": [
    "# Scopus format ifs3\n",
    "ScopusClient.fetch_records(format=\"ifs3\",query=scopus_epfl_query,count=2)"
   ]
  },
  {
   "cell_type": "code",
   "execution_count": null,
   "id": "3ebcc65c-3673-419d-8146-ee203da34177",
   "metadata": {},
   "outputs": [],
   "source": [
    "# Loop\n",
    "total = ScopusClient.count_results(query=scopus_epfl_query)\n",
    "count = 50\n",
    "recs = []\n",
    "for i in range(1, int(total), int(count)):\n",
    "    recs.extend(ScopusClient.fetch_records(query = scopus_epfl_query, count = count, start =i))"
   ]
  },
  {
   "cell_type": "markdown",
   "id": "8048da59-2e3b-45a4-9966-debc14e909db",
   "metadata": {},
   "source": [
    "***"
   ]
  },
  {
   "cell_type": "markdown",
   "id": "b42c3605-704a-42ce-b195-84b40635820c",
   "metadata": {},
   "source": [
    "## Exemples d'utilisation des harvesters"
   ]
  },
  {
   "cell_type": "markdown",
   "id": "6eb5e037-1638-4988-983b-e6313a5c222f",
   "metadata": {},
   "source": [
    "Les harvesters permettent d'unifier le processus de moissonnage multi-sources et de produire les dataframes des publications"
   ]
  },
  {
   "cell_type": "code",
   "execution_count": null,
   "id": "25e98c25-bcd1-4874-97b2-27f99e517e8e",
   "metadata": {},
   "outputs": [],
   "source": [
    "from data_pipeline.harvester import WosHarvester, ScopusHarvester"
   ]
  },
  {
   "cell_type": "code",
   "execution_count": null,
   "id": "632504c9-2d81-4f5f-a55e-055ced32adfc",
   "metadata": {},
   "outputs": [],
   "source": [
    "default_queries = {\n",
    "        \"wos\": \"OG=(Ecole Polytechnique Federale de Lausanne)\",\n",
    "        \"scopus\": \"AF-ID(60028186) OR AF-ID(60210159) OR AF-ID(60070536) OR AF-ID(60204330) OR AF-ID(60070531) OR AF-ID(60070534) OR AF-ID(60070538) OR AF-ID(60014951) OR AF-ID(60070529) OR AF-ID(60070532) OR AF-ID(60070535) OR AF-ID(60122563) OR AF-ID(60210160) OR AF-ID(60204331)\",\n",
    "        \"openalex\": \"OPENALEX_QUERY_HERE\",  # Placeholder for OpenAlex query in the future ?\n",
    "        \"zenodo\": \"ZENODO_QUERY_HERE\"      # Placeholder for Zenodo query in teh future ?\n",
    "    }\n",
    "start_date = \"2024-07-01\"\n",
    "end_date = \"2024-07-10\""
   ]
  },
  {
   "cell_type": "markdown",
   "id": "920c3d6f-7ec6-4659-9d0a-d4374689c935",
   "metadata": {},
   "source": [
    "Par défaut le format de sortie est \"ifs3\""
   ]
  },
  {
   "cell_type": "code",
   "execution_count": null,
   "id": "9debfb6b-75a2-4b94-a726-bfd2434ce44d",
   "metadata": {},
   "outputs": [],
   "source": [
    "# Dataframe des publications WoS\n",
    "wos_harvester = WosHarvester(start_date, end_date, default_queries[\"wos\"])\n",
    "wos_publications = wos_harvester.harvest()"
   ]
  },
  {
   "cell_type": "code",
   "execution_count": null,
   "id": "a1650f85-0953-4d3f-a147-72614591c0bf",
   "metadata": {},
   "outputs": [],
   "source": [
    "# Dataframe des publications Scopus\n",
    "## format par défaut : ifs3\n",
    "scopus_harvester = ScopusHarvester(start_date, end_date, default_queries[\"scopus\"])\n",
    "scopus_publications = scopus_harvester.harvest()"
   ]
  },
  {
   "cell_type": "markdown",
   "id": "c2cfffa5-26df-4f7a-86d9-a38779a63c4f",
   "metadata": {},
   "source": [
    "***"
   ]
  },
  {
   "cell_type": "markdown",
   "id": "ea055c96-5f47-41e8-baa2-8cfe7cffbf21",
   "metadata": {},
   "source": [
    "## Dédoublonnage"
   ]
  },
  {
   "cell_type": "code",
   "execution_count": null,
   "id": "94fa2427-621d-4801-ba6b-b435fc8a961f",
   "metadata": {},
   "outputs": [],
   "source": [
    "from data_pipeline.deduplicator import DataFrameProcessor"
   ]
  },
  {
   "cell_type": "code",
   "execution_count": null,
   "id": "a24877d9-9f15-490b-b1f0-7fbd0396e85a",
   "metadata": {},
   "outputs": [],
   "source": [
    "# Merge \n",
    "deduplicator = DataFrameProcessor(wos_publications, scopus_publications)\n",
    "# Deduplicate the publications : first deduplicate operation between the sources\n",
    "deduplicated_sources_df = deduplicator.deduplicate_dataframes()\n",
    "# and second operation : filter by removing founded duplicates in Infoscience\n",
    "df_final,df_unloaded = deduplicator.deduplicate_infoscience(deduplicated_sources_df)\n",
    "# Generate main dataframes\n",
    "df_metadata, df_authors = deduplicator.generate_main_dataframes(df_final)"
   ]
  },
  {
   "cell_type": "markdown",
   "id": "6c3de719-5a14-4a6d-af87-9a4bc306d7f3",
   "metadata": {},
   "source": [
    "***"
   ]
  },
  {
   "cell_type": "markdown",
   "id": "f2114d82-88c1-4ba2-870e-13a3ede4834b",
   "metadata": {},
   "source": [
    "## Consolidation données api.epfl.ch"
   ]
  },
  {
   "cell_type": "code",
   "execution_count": 3,
   "id": "0a7bcbed-3828-4e66-a110-93ea2e52e1ad",
   "metadata": {},
   "outputs": [],
   "source": [
    "from data_pipeline.enricher import Processor"
   ]
  },
  {
   "cell_type": "code",
   "execution_count": 4,
   "id": "04235f98-f150-4c59-a5d4-3ace79cca4c8",
   "metadata": {},
   "outputs": [
    {
     "data": {
      "text/plain": [
       "(4618, 7)"
      ]
     },
     "execution_count": 4,
     "metadata": {},
     "output_type": "execute_result"
    }
   ],
   "source": [
    "df = pd.read_csv(\"harvested-data/2024_09_15/AddressesAndNames.csv\", encoding=\"utf-8\")\n",
    "df.shape"
   ]
  },
  {
   "cell_type": "markdown",
   "id": "ca036680-4b49-421d-901b-5a1d0ef474ab",
   "metadata": {},
   "source": [
    "### Etape 1 : Détection des auteurs affiliés à l'EPFL + nettoyage des noms auteurs + récupération des infos des unités via api.epfl.ch"
   ]
  },
  {
   "cell_type": "code",
   "execution_count": 5,
   "id": "763e0a42-f8b7-4146-bfdb-985d7ee61396",
   "metadata": {},
   "outputs": [],
   "source": [
    "# epfl_affiliation = True/False\n",
    "processor = Processor(df)\n",
    "df_epfl_affiliation_eval = processor.process(return_df=True)"
   ]
  },
  {
   "cell_type": "code",
   "execution_count": 6,
   "id": "9ecaae02-615b-474c-be79-f07e732f39d8",
   "metadata": {},
   "outputs": [
    {
     "data": {
      "text/plain": [
       "(236, 8)"
      ]
     },
     "execution_count": 6,
     "metadata": {},
     "output_type": "execute_result"
    }
   ],
   "source": [
    "# filtre sur les auteurs EPFL\n",
    "df_tmp = df_epfl_affiliation_eval.copy()\n",
    "df_tmp = df_tmp[df_tmp.epfl_affiliation]\n",
    "df_tmp.shape"
   ]
  },
  {
   "cell_type": "markdown",
   "id": "a48ef1ed-324a-4d2a-a52e-9810274b2b62",
   "metadata": {},
   "source": [
    "#### a. Nettoyage des noms auteurs"
   ]
  },
  {
   "cell_type": "code",
   "execution_count": 7,
   "id": "cce8887a-c721-4b52-a8c6-2b6b33e74618",
   "metadata": {},
   "outputs": [],
   "source": [
    "#pd.set_option('display.max_rows', None)"
   ]
  },
  {
   "cell_type": "code",
   "execution_count": 8,
   "id": "00e8d486-69dc-48cb-9b87-cebf0b80ebc9",
   "metadata": {},
   "outputs": [],
   "source": [
    "# nouvelle colonne \"author_cleaned\"\n",
    "processor = Processor(df_tmp)\n",
    "df_cleaned_names = processor.clean_authors(return_df=True)"
   ]
  },
  {
   "cell_type": "code",
   "execution_count": null,
   "id": "7b4a742f-39bd-47d7-af54-90d5a5fa034b",
   "metadata": {},
   "outputs": [],
   "source": [
    "df_cleaned_names"
   ]
  },
  {
   "cell_type": "markdown",
   "id": "17b579ae-e43b-41db-b0e2-a9c5d190b2ba",
   "metadata": {},
   "source": [
    "#### b. API EPFL infos"
   ]
  },
  {
   "cell_type": "code",
   "execution_count": 9,
   "id": "4390bf7f-358c-41da-b1d9-cb7556a83fa3",
   "metadata": {},
   "outputs": [],
   "source": [
    "processor = Processor(df_cleaned_names[0:20])\n",
    "df_api_epfl_infos = processor.api_epfl_reconciliation(return_df=True)"
   ]
  },
  {
   "cell_type": "code",
   "execution_count": 10,
   "id": "4d6a571c-9644-46d8-bba8-f627820c4034",
   "metadata": {},
   "outputs": [
    {
     "data": {
      "text/html": [
       "<div>\n",
       "<style scoped>\n",
       "    .dataframe tbody tr th:only-of-type {\n",
       "        vertical-align: middle;\n",
       "    }\n",
       "\n",
       "    .dataframe tbody tr th {\n",
       "        vertical-align: top;\n",
       "    }\n",
       "\n",
       "    .dataframe thead th {\n",
       "        text-align: right;\n",
       "    }\n",
       "</style>\n",
       "<table border=\"1\" class=\"dataframe\">\n",
       "  <thead>\n",
       "    <tr style=\"text-align: right;\">\n",
       "      <th></th>\n",
       "      <th>row_id</th>\n",
       "      <th>source</th>\n",
       "      <th>author</th>\n",
       "      <th>orcid_id</th>\n",
       "      <th>internal_author_id</th>\n",
       "      <th>organizations</th>\n",
       "      <th>suborganization</th>\n",
       "      <th>epfl_affiliation</th>\n",
       "      <th>author_cleaned</th>\n",
       "      <th>sciper_id_by_fullname</th>\n",
       "      <th>epfl_api_mainunit_id</th>\n",
       "      <th>epfl_api_mainunit_name</th>\n",
       "    </tr>\n",
       "  </thead>\n",
       "  <tbody>\n",
       "    <tr>\n",
       "      <th>4</th>\n",
       "      <td>1</td>\n",
       "      <td>wos</td>\n",
       "      <td>Zanoletti, Olivia</td>\n",
       "      <td>NaN</td>\n",
       "      <td>EGW-5587-2022</td>\n",
       "      <td>Swiss Fed Inst Technol Lausanne EPFL|Swiss Fed...</td>\n",
       "      <td>Behav Genet Lab</td>\n",
       "      <td>True</td>\n",
       "      <td>zanoletti olivia</td>\n",
       "      <td>196321</td>\n",
       "      <td>12544</td>\n",
       "      <td>COSEC-SV</td>\n",
       "    </tr>\n",
       "    <tr>\n",
       "      <th>5</th>\n",
       "      <td>1</td>\n",
       "      <td>wos</td>\n",
       "      <td>Sandi, Carmen</td>\n",
       "      <td>0000-0001-7713-8321</td>\n",
       "      <td>DZQ-8659-2022</td>\n",
       "      <td>Swiss Fed Inst Technol Lausanne EPFL|Swiss Fed...</td>\n",
       "      <td>Behav Genet Lab</td>\n",
       "      <td>True</td>\n",
       "      <td>sandi carmen</td>\n",
       "      <td>160090</td>\n",
       "      <td>11365</td>\n",
       "      <td>EDNE-ENS</td>\n",
       "    </tr>\n",
       "    <tr>\n",
       "      <th>10</th>\n",
       "      <td>2</td>\n",
       "      <td>wos</td>\n",
       "      <td>Adeli, Yeerlan</td>\n",
       "      <td>NaN</td>\n",
       "      <td>CBQ-4636-2022</td>\n",
       "      <td>Ecole Polytech Fed Lausanne|Swiss Federal Inst...</td>\n",
       "      <td>Inst Chem Sci &amp; Engn|EPFL</td>\n",
       "      <td>True</td>\n",
       "      <td>adeli yeerlan</td>\n",
       "      <td>317625</td>\n",
       "      <td>None</td>\n",
       "      <td>None</td>\n",
       "    </tr>\n",
       "    <tr>\n",
       "      <th>11</th>\n",
       "      <td>2</td>\n",
       "      <td>wos</td>\n",
       "      <td>Nuesch, Frank A.</td>\n",
       "      <td>NaN</td>\n",
       "      <td>IFL-4565-2023</td>\n",
       "      <td>Ecole Polytech Fed Lausanne|Swiss Federal Inst...</td>\n",
       "      <td>Inst Chem Sci &amp; Engn|EPFL</td>\n",
       "      <td>True</td>\n",
       "      <td>nuesch frank a</td>\n",
       "      <td>0 résultat dans api.epfl.ch</td>\n",
       "      <td>None</td>\n",
       "      <td>None</td>\n",
       "    </tr>\n",
       "    <tr>\n",
       "      <th>15</th>\n",
       "      <td>3</td>\n",
       "      <td>wos</td>\n",
       "      <td>Xia, Jianxing</td>\n",
       "      <td>NaN</td>\n",
       "      <td>GMI-0316-2022</td>\n",
       "      <td>Ecole Polytech Fed Lausanne EPFL|Swiss Federal...</td>\n",
       "      <td>Inst Chem Sci &amp; Engn</td>\n",
       "      <td>True</td>\n",
       "      <td>xia jianxing</td>\n",
       "      <td>332654</td>\n",
       "      <td>9</td>\n",
       "      <td>LCOM</td>\n",
       "    </tr>\n",
       "    <tr>\n",
       "      <th>16</th>\n",
       "      <td>3</td>\n",
       "      <td>wos</td>\n",
       "      <td>Nazeeruddin, Mohammad Khaja</td>\n",
       "      <td>0000-0003-3580-5960</td>\n",
       "      <td>B-1323-2008</td>\n",
       "      <td>Ecole Polytech Fed Lausanne EPFL|Swiss Federal...</td>\n",
       "      <td>Inst Chem Sci &amp; Engn</td>\n",
       "      <td>True</td>\n",
       "      <td>nazeeruddin mohammad khaja</td>\n",
       "      <td>105958</td>\n",
       "      <td>12514</td>\n",
       "      <td>ISIC-DIV</td>\n",
       "    </tr>\n",
       "    <tr>\n",
       "      <th>28</th>\n",
       "      <td>4</td>\n",
       "      <td>scopus</td>\n",
       "      <td>Delalande A.</td>\n",
       "      <td>NaN</td>\n",
       "      <td>57219691961</td>\n",
       "      <td>60028186:École Polytechnique Fédérale de Lausanne</td>\n",
       "      <td>NaN</td>\n",
       "      <td>True</td>\n",
       "      <td>delalande a</td>\n",
       "      <td>Plus de 1 résultat dans api.epfl.ch</td>\n",
       "      <td>None</td>\n",
       "      <td>None</td>\n",
       "    </tr>\n",
       "    <tr>\n",
       "      <th>30</th>\n",
       "      <td>5</td>\n",
       "      <td>wos</td>\n",
       "      <td>Kressner, Daniel</td>\n",
       "      <td>0000-0003-3369-2958</td>\n",
       "      <td>F-7600-2014</td>\n",
       "      <td>Ecole Polytech Fed Lausanne|Swiss Federal Inst...</td>\n",
       "      <td>Inst Math</td>\n",
       "      <td>True</td>\n",
       "      <td>kressner daniel</td>\n",
       "      <td>213191</td>\n",
       "      <td>12478</td>\n",
       "      <td>ANCHP</td>\n",
       "    </tr>\n",
       "    <tr>\n",
       "      <th>37</th>\n",
       "      <td>6</td>\n",
       "      <td>wos</td>\n",
       "      <td>Termine, Alberto</td>\n",
       "      <td>NaN</td>\n",
       "      <td>GVV-6737-2022</td>\n",
       "      <td>Ecole Polytech Fed Lausanne EPFL|Swiss Federal...</td>\n",
       "      <td>Coll Humanities</td>\n",
       "      <td>True</td>\n",
       "      <td>termine alberto</td>\n",
       "      <td>392469</td>\n",
       "      <td>10475</td>\n",
       "      <td>CDH-DI</td>\n",
       "    </tr>\n",
       "    <tr>\n",
       "      <th>42</th>\n",
       "      <td>7</td>\n",
       "      <td>wos</td>\n",
       "      <td>Scolaro, A.</td>\n",
       "      <td>0000-0001-9701-529X</td>\n",
       "      <td>DVU-2604-2022</td>\n",
       "      <td>Ecole Polytech Fed Lausanne|Swiss Federal Inst...</td>\n",
       "      <td>Lab Reactor Phys &amp; Syst Behav LRS</td>\n",
       "      <td>True</td>\n",
       "      <td>scolaro a</td>\n",
       "      <td>Plus de 1 résultat dans api.epfl.ch</td>\n",
       "      <td>None</td>\n",
       "      <td>None</td>\n",
       "    </tr>\n",
       "    <tr>\n",
       "      <th>43</th>\n",
       "      <td>8</td>\n",
       "      <td>scopus</td>\n",
       "      <td>Forrer S.</td>\n",
       "      <td>0009-0007-5445-7873</td>\n",
       "      <td>59226353100</td>\n",
       "      <td>60026405:Université de Genève Faculté de Médec...</td>\n",
       "      <td>NaN</td>\n",
       "      <td>True</td>\n",
       "      <td>forrer s</td>\n",
       "      <td>Plus de 1 résultat dans api.epfl.ch</td>\n",
       "      <td>None</td>\n",
       "      <td>None</td>\n",
       "    </tr>\n",
       "    <tr>\n",
       "      <th>44</th>\n",
       "      <td>8</td>\n",
       "      <td>scopus</td>\n",
       "      <td>Delavari F.</td>\n",
       "      <td>NaN</td>\n",
       "      <td>56441734600</td>\n",
       "      <td>60026405:Université de Genève Faculté de Médec...</td>\n",
       "      <td>NaN</td>\n",
       "      <td>True</td>\n",
       "      <td>delavari f</td>\n",
       "      <td>326089</td>\n",
       "      <td>12143</td>\n",
       "      <td>MIPLAB</td>\n",
       "    </tr>\n",
       "    <tr>\n",
       "      <th>47</th>\n",
       "      <td>8</td>\n",
       "      <td>scopus</td>\n",
       "      <td>Preti M.G.</td>\n",
       "      <td>NaN</td>\n",
       "      <td>41262149000</td>\n",
       "      <td>60028186:École Polytechnique Fédérale de Lausa...</td>\n",
       "      <td>NaN</td>\n",
       "      <td>True</td>\n",
       "      <td>preti mg</td>\n",
       "      <td>0 résultat dans api.epfl.ch</td>\n",
       "      <td>None</td>\n",
       "      <td>None</td>\n",
       "    </tr>\n",
       "    <tr>\n",
       "      <th>48</th>\n",
       "      <td>8</td>\n",
       "      <td>scopus</td>\n",
       "      <td>Van De Ville D.</td>\n",
       "      <td>NaN</td>\n",
       "      <td>6701694895</td>\n",
       "      <td>60028186:École Polytechnique Fédérale de Lausa...</td>\n",
       "      <td>NaN</td>\n",
       "      <td>True</td>\n",
       "      <td>van de ville d</td>\n",
       "      <td>Plus de 1 résultat dans api.epfl.ch</td>\n",
       "      <td>None</td>\n",
       "      <td>None</td>\n",
       "    </tr>\n",
       "    <tr>\n",
       "      <th>58</th>\n",
       "      <td>9</td>\n",
       "      <td>wos</td>\n",
       "      <td>Borda, E.</td>\n",
       "      <td>NaN</td>\n",
       "      <td>CHG-7494-2022</td>\n",
       "      <td>Ecole Polytech Fed Lausanne|Swiss Federal Inst...</td>\n",
       "      <td>Medtron Chair Neuroengn|Ctr Neuroprosthet</td>\n",
       "      <td>True</td>\n",
       "      <td>borda e</td>\n",
       "      <td>Plus de 1 résultat dans api.epfl.ch</td>\n",
       "      <td>None</td>\n",
       "      <td>None</td>\n",
       "    </tr>\n",
       "    <tr>\n",
       "      <th>59</th>\n",
       "      <td>9</td>\n",
       "      <td>wos</td>\n",
       "      <td>Ghezzi, D.</td>\n",
       "      <td>NaN</td>\n",
       "      <td>HQG-4052-2023</td>\n",
       "      <td>Ecole Polytech Fed Lausanne|Swiss Federal Inst...</td>\n",
       "      <td>Medtron Chair Neuroengn|Ctr Neuroprosthet</td>\n",
       "      <td>True</td>\n",
       "      <td>ghezzi d</td>\n",
       "      <td>Plus de 1 résultat dans api.epfl.ch</td>\n",
       "      <td>None</td>\n",
       "      <td>None</td>\n",
       "    </tr>\n",
       "    <tr>\n",
       "      <th>60</th>\n",
       "      <td>9</td>\n",
       "      <td>wos</td>\n",
       "      <td>Borda, E.</td>\n",
       "      <td>NaN</td>\n",
       "      <td>CHG-7494-2022</td>\n",
       "      <td>Ecole Polytech Fed Lausanne|Swiss Federal Inst...</td>\n",
       "      <td>Inst Bioengn</td>\n",
       "      <td>True</td>\n",
       "      <td>borda e</td>\n",
       "      <td>Plus de 1 résultat dans api.epfl.ch</td>\n",
       "      <td>None</td>\n",
       "      <td>None</td>\n",
       "    </tr>\n",
       "    <tr>\n",
       "      <th>61</th>\n",
       "      <td>9</td>\n",
       "      <td>wos</td>\n",
       "      <td>Ghezzi, D.</td>\n",
       "      <td>NaN</td>\n",
       "      <td>HQG-4052-2023</td>\n",
       "      <td>Ecole Polytech Fed Lausanne|Swiss Federal Inst...</td>\n",
       "      <td>Inst Bioengn</td>\n",
       "      <td>True</td>\n",
       "      <td>ghezzi d</td>\n",
       "      <td>Plus de 1 résultat dans api.epfl.ch</td>\n",
       "      <td>None</td>\n",
       "      <td>None</td>\n",
       "    </tr>\n",
       "    <tr>\n",
       "      <th>67</th>\n",
       "      <td>10</td>\n",
       "      <td>scopus</td>\n",
       "      <td>Brühwiler E.</td>\n",
       "      <td>NaN</td>\n",
       "      <td>55937258900</td>\n",
       "      <td>60028186:École Polytechnique Fédérale de Lausanne</td>\n",
       "      <td>NaN</td>\n",
       "      <td>True</td>\n",
       "      <td>brhwiler e</td>\n",
       "      <td>0 résultat dans api.epfl.ch</td>\n",
       "      <td>None</td>\n",
       "      <td>None</td>\n",
       "    </tr>\n",
       "    <tr>\n",
       "      <th>72</th>\n",
       "      <td>11</td>\n",
       "      <td>wos</td>\n",
       "      <td>Rath, Simon A.</td>\n",
       "      <td>0000-0001-7659-419X</td>\n",
       "      <td>DTU-3190-2022</td>\n",
       "      <td>Ecole Polytech Fed Lausanne EPFL|Swiss Federal...</td>\n",
       "      <td>Sch Architecture Civil &amp; Environm Engn ENAC</td>\n",
       "      <td>True</td>\n",
       "      <td>rath simon a</td>\n",
       "      <td>332398</td>\n",
       "      <td>50340</td>\n",
       "      <td>EDCE</td>\n",
       "    </tr>\n",
       "  </tbody>\n",
       "</table>\n",
       "</div>"
      ],
      "text/plain": [
       "    row_id  source                       author             orcid_id  \\\n",
       "4        1     wos            Zanoletti, Olivia                  NaN   \n",
       "5        1     wos                Sandi, Carmen  0000-0001-7713-8321   \n",
       "10       2     wos               Adeli, Yeerlan                  NaN   \n",
       "11       2     wos             Nuesch, Frank A.                  NaN   \n",
       "15       3     wos                Xia, Jianxing                  NaN   \n",
       "16       3     wos  Nazeeruddin, Mohammad Khaja  0000-0003-3580-5960   \n",
       "28       4  scopus                 Delalande A.                  NaN   \n",
       "30       5     wos             Kressner, Daniel  0000-0003-3369-2958   \n",
       "37       6     wos             Termine, Alberto                  NaN   \n",
       "42       7     wos                  Scolaro, A.  0000-0001-9701-529X   \n",
       "43       8  scopus                    Forrer S.  0009-0007-5445-7873   \n",
       "44       8  scopus                  Delavari F.                  NaN   \n",
       "47       8  scopus                   Preti M.G.                  NaN   \n",
       "48       8  scopus              Van De Ville D.                  NaN   \n",
       "58       9     wos                    Borda, E.                  NaN   \n",
       "59       9     wos                   Ghezzi, D.                  NaN   \n",
       "60       9     wos                    Borda, E.                  NaN   \n",
       "61       9     wos                   Ghezzi, D.                  NaN   \n",
       "67      10  scopus                 Brühwiler E.                  NaN   \n",
       "72      11     wos               Rath, Simon A.  0000-0001-7659-419X   \n",
       "\n",
       "   internal_author_id                                      organizations  \\\n",
       "4       EGW-5587-2022  Swiss Fed Inst Technol Lausanne EPFL|Swiss Fed...   \n",
       "5       DZQ-8659-2022  Swiss Fed Inst Technol Lausanne EPFL|Swiss Fed...   \n",
       "10      CBQ-4636-2022  Ecole Polytech Fed Lausanne|Swiss Federal Inst...   \n",
       "11      IFL-4565-2023  Ecole Polytech Fed Lausanne|Swiss Federal Inst...   \n",
       "15      GMI-0316-2022  Ecole Polytech Fed Lausanne EPFL|Swiss Federal...   \n",
       "16        B-1323-2008  Ecole Polytech Fed Lausanne EPFL|Swiss Federal...   \n",
       "28        57219691961  60028186:École Polytechnique Fédérale de Lausanne   \n",
       "30        F-7600-2014  Ecole Polytech Fed Lausanne|Swiss Federal Inst...   \n",
       "37      GVV-6737-2022  Ecole Polytech Fed Lausanne EPFL|Swiss Federal...   \n",
       "42      DVU-2604-2022  Ecole Polytech Fed Lausanne|Swiss Federal Inst...   \n",
       "43        59226353100  60026405:Université de Genève Faculté de Médec...   \n",
       "44        56441734600  60026405:Université de Genève Faculté de Médec...   \n",
       "47        41262149000  60028186:École Polytechnique Fédérale de Lausa...   \n",
       "48         6701694895  60028186:École Polytechnique Fédérale de Lausa...   \n",
       "58      CHG-7494-2022  Ecole Polytech Fed Lausanne|Swiss Federal Inst...   \n",
       "59      HQG-4052-2023  Ecole Polytech Fed Lausanne|Swiss Federal Inst...   \n",
       "60      CHG-7494-2022  Ecole Polytech Fed Lausanne|Swiss Federal Inst...   \n",
       "61      HQG-4052-2023  Ecole Polytech Fed Lausanne|Swiss Federal Inst...   \n",
       "67        55937258900  60028186:École Polytechnique Fédérale de Lausanne   \n",
       "72      DTU-3190-2022  Ecole Polytech Fed Lausanne EPFL|Swiss Federal...   \n",
       "\n",
       "                                suborganization epfl_affiliation  \\\n",
       "4                               Behav Genet Lab             True   \n",
       "5                               Behav Genet Lab             True   \n",
       "10                    Inst Chem Sci & Engn|EPFL             True   \n",
       "11                    Inst Chem Sci & Engn|EPFL             True   \n",
       "15                         Inst Chem Sci & Engn             True   \n",
       "16                         Inst Chem Sci & Engn             True   \n",
       "28                                          NaN             True   \n",
       "30                                    Inst Math             True   \n",
       "37                              Coll Humanities             True   \n",
       "42            Lab Reactor Phys & Syst Behav LRS             True   \n",
       "43                                          NaN             True   \n",
       "44                                          NaN             True   \n",
       "47                                          NaN             True   \n",
       "48                                          NaN             True   \n",
       "58    Medtron Chair Neuroengn|Ctr Neuroprosthet             True   \n",
       "59    Medtron Chair Neuroengn|Ctr Neuroprosthet             True   \n",
       "60                                 Inst Bioengn             True   \n",
       "61                                 Inst Bioengn             True   \n",
       "67                                          NaN             True   \n",
       "72  Sch Architecture Civil & Environm Engn ENAC             True   \n",
       "\n",
       "                author_cleaned                sciper_id_by_fullname  \\\n",
       "4             zanoletti olivia                               196321   \n",
       "5                 sandi carmen                               160090   \n",
       "10               adeli yeerlan                               317625   \n",
       "11              nuesch frank a          0 résultat dans api.epfl.ch   \n",
       "15                xia jianxing                               332654   \n",
       "16  nazeeruddin mohammad khaja                               105958   \n",
       "28                 delalande a  Plus de 1 résultat dans api.epfl.ch   \n",
       "30             kressner daniel                               213191   \n",
       "37             termine alberto                               392469   \n",
       "42                   scolaro a  Plus de 1 résultat dans api.epfl.ch   \n",
       "43                    forrer s  Plus de 1 résultat dans api.epfl.ch   \n",
       "44                  delavari f                               326089   \n",
       "47                    preti mg          0 résultat dans api.epfl.ch   \n",
       "48              van de ville d  Plus de 1 résultat dans api.epfl.ch   \n",
       "58                     borda e  Plus de 1 résultat dans api.epfl.ch   \n",
       "59                    ghezzi d  Plus de 1 résultat dans api.epfl.ch   \n",
       "60                     borda e  Plus de 1 résultat dans api.epfl.ch   \n",
       "61                    ghezzi d  Plus de 1 résultat dans api.epfl.ch   \n",
       "67                  brhwiler e          0 résultat dans api.epfl.ch   \n",
       "72                rath simon a                               332398   \n",
       "\n",
       "   epfl_api_mainunit_id epfl_api_mainunit_name  \n",
       "4                 12544               COSEC-SV  \n",
       "5                 11365               EDNE-ENS  \n",
       "10                 None                   None  \n",
       "11                 None                   None  \n",
       "15                    9                   LCOM  \n",
       "16                12514               ISIC-DIV  \n",
       "28                 None                   None  \n",
       "30                12478                  ANCHP  \n",
       "37                10475                 CDH-DI  \n",
       "42                 None                   None  \n",
       "43                 None                   None  \n",
       "44                12143                 MIPLAB  \n",
       "47                 None                   None  \n",
       "48                 None                   None  \n",
       "58                 None                   None  \n",
       "59                 None                   None  \n",
       "60                 None                   None  \n",
       "61                 None                   None  \n",
       "67                 None                   None  \n",
       "72                50340                   EDCE  "
      ]
     },
     "execution_count": 10,
     "metadata": {},
     "output_type": "execute_result"
    }
   ],
   "source": [
    "df_api_epfl_infos"
   ]
  },
  {
   "cell_type": "markdown",
   "id": "dd1c2267-0776-4a06-8b99-0208d9741653",
   "metadata": {},
   "source": [
    "#### c. En mode pipeline"
   ]
  },
  {
   "cell_type": "code",
   "execution_count": null,
   "id": "5da160f4-efd3-48d6-b37a-acfc7a82b799",
   "metadata": {},
   "outputs": [],
   "source": [
    "processor = Processor(df)\n",
    "df_api_epfl_infos = processor.process().clean_authors().api_epfl_reconciliation(return_df=True)"
   ]
  },
  {
   "cell_type": "markdown",
   "id": "41ba199a-48ef-4e26-b68b-d2271286d72e",
   "metadata": {},
   "source": [
    "### Etape 2 : Complétion des métadonnées pour les auteurs non trouvés dans api.epfl.ch dans l'étape 1 : récupération des Orcid par un service Istex + récupération des métadonnées Orcid (orcid, firstname, lastname, vérif affiliation EPFL) + récupération des infos des unités via api.epfl.ch"
   ]
  },
  {
   "cell_type": "code",
   "execution_count": null,
   "id": "60f5b265-5252-45f7-abf3-764349b33c10",
   "metadata": {},
   "outputs": [],
   "source": [
    "processor = Processor(df_api_epfl_infos)\n",
    "df_epfl_enrich = processor.nameparse_authors().services_istex_orcid_reconciliation().orcid_data_reconciliation(return_df=True)"
   ]
  },
  {
   "cell_type": "markdown",
   "id": "beb989c2-11ec-40a6-9e7f-2977761b0e85",
   "metadata": {},
   "source": [
    "***"
   ]
  },
  {
   "cell_type": "markdown",
   "id": "c24d2eb3-4c78-4541-bdd8-8fb1ef9a7532",
   "metadata": {},
   "source": [
    "## Main"
   ]
  },
  {
   "cell_type": "code",
   "execution_count": 2,
   "id": "5f5d3514-77b5-4ac9-87d9-c825ef939d5b",
   "metadata": {},
   "outputs": [],
   "source": [
    "from data_pipeline.main import main"
   ]
  }
 ],
 "metadata": {
  "kernelspec": {
   "display_name": "venv_ifs3_imports",
   "language": "python",
   "name": "venv_ifs3_imports"
  },
  "language_info": {
   "codemirror_mode": {
    "name": "ipython",
    "version": 3
   },
   "file_extension": ".py",
   "mimetype": "text/x-python",
   "name": "python",
   "nbconvert_exporter": "python",
   "pygments_lexer": "ipython3",
   "version": "3.11.10"
  }
 },
 "nbformat": 4,
 "nbformat_minor": 5
}
