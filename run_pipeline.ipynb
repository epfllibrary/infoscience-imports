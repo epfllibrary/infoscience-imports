{
 "cells": [
  {
   "cell_type": "markdown",
   "id": "13de484b-d51e-43dd-9c26-c4c42b02c215",
   "metadata": {},
   "source": [
    "# Import WOS & Scopus to Infoscience"
   ]
  },
  {
   "cell_type": "code",
   "execution_count": 1,
   "id": "b4ec18b5",
   "metadata": {},
   "outputs": [],
   "source": [
    "from data_pipeline.main import main\n",
    "import pandas as pd\n",
    "import logging\n",
    "import ipywidgets as widgets\n",
    "from ipywidgets import Layout\n",
    "from IPython.display import display, Markdown, HTML\n",
    "from datetime import date\n",
    "import os, base64"
   ]
  },
  {
   "cell_type": "code",
   "execution_count": 2,
   "id": "b3b50852-f511-476e-9d22-ab22a010b0c6",
   "metadata": {
    "tags": []
   },
   "outputs": [],
   "source": [
    "# common functions ###############################\n",
    "def create_download_link(filename, title = \"Cliquer ici pour télécharger le fichier : \"):  \n",
    "    data = open(filename, \"rb\").read()\n",
    "    b64 = base64.b64encode(data)\n",
    "    payload = b64.decode()\n",
    "    html = '<a download=\"{filename}\" href=\"data:text/csv;base64,{payload}\" target=\"_blank\">{title}</a>'\n",
    "    html = html.format(payload=payload,title=title+f' {filename}',filename=filename)\n",
    "    return HTML(html)"
   ]
  },
  {
   "cell_type": "markdown",
   "id": "cfef216f-9204-43ce-a868-07813cdfb806",
   "metadata": {},
   "source": [
    "***"
   ]
  },
  {
   "cell_type": "markdown",
   "id": "38efa630-1e07-4e1a-8bc2-793753d8797b",
   "metadata": {},
   "source": [
    "## Utilities : exemples d'utilisation des clients et des wrappers"
   ]
  },
  {
   "cell_type": "markdown",
   "id": "4ec7af4b-dfda-489d-9099-1d73dee6916e",
   "metadata": {},
   "source": [
    "### Clients"
   ]
  },
  {
   "cell_type": "code",
   "execution_count": null,
   "id": "1780a74d-138c-448b-ad85-955beb8b07d7",
   "metadata": {},
   "outputs": [],
   "source": [
    "from clients.wos_client_v2 import WosClient\n",
    "from clients.scopus_client import ScopusClient"
   ]
  },
  {
   "cell_type": "code",
   "execution_count": null,
   "id": "ed310140-aaa2-4007-b21d-b007e85936c0",
   "metadata": {},
   "outputs": [],
   "source": [
    "wos_epfl_query = \"OG=(Ecole Polytechnique Federale de Lausanne)\"\n",
    "scopus_epfl_query = \"AF-ID(60028186) AND (ORIG-LOAD-DATE AFT 20240722) AND (ORIG-LOAD-DATE BEF 20240831)\"\n",
    "createdTimeSpan = \"2024-01-01+2024-01-03\""
   ]
  },
  {
   "cell_type": "code",
   "execution_count": null,
   "id": "24adc42a-2564-4c4b-aa65-6b1c981da181",
   "metadata": {},
   "outputs": [],
   "source": [
    "# nombre total de résultats\n",
    "## WoS\n",
    "WosClient.count_results(usrQuery=wos_epfl_query)\n",
    "## Scopus\n",
    "ScopusClient.count_results(query=scopus_epfl_query)"
   ]
  },
  {
   "cell_type": "code",
   "execution_count": null,
   "id": "20ab4d24-f05b-4b10-b3bd-3ded78f726ac",
   "metadata": {},
   "outputs": [],
   "source": [
    "# uniquement les WoS Id\n",
    "# par défaut count=10\n",
    "## WoS\n",
    "WosClient.fetch_ids(usrQuery=wos_epfl_query, count=50,createdTimeSpan=createdTimeSpan)\n",
    "## Scopus\n",
    "ScopusClient.fetch_ids(query=scopus_epfl_query)"
   ]
  },
  {
   "cell_type": "markdown",
   "id": "0cab004b-002e-4de0-931f-9148645da834",
   "metadata": {},
   "source": [
    "Extraction des métadonnées selon 4 formats\n",
    "- \"digest\": métadonnées source, internal_id, doi, title, doctype, pubyear\n",
    "- \"digest-ifs3\" : idem digest + ifs3_doctype (nom de la collection Infoscience= + ifs3_collection_id (uuid de la collection Infoscience)\n",
    "- \"ifs3\" : idem digest-ifs3 + authors (chaque objet auteur comprend les métadonnées : author,internal_author_id,orcid_id,organizations)\n",
    "- \"scopus\" ou \"wos\" : formats natifs du WoS ou Scopus"
   ]
  },
  {
   "cell_type": "code",
   "execution_count": null,
   "id": "1c88a89d-531a-4fd3-8b70-2d8db5aafd4c",
   "metadata": {},
   "outputs": [],
   "source": [
    "# WoS digest\n",
    "WosClient.fetch_records(format=\"digest\",usrQuery=wos_epfl_query,count=2)\n",
    "# Scopus ifs3\n",
    "ScopusClient.fetch_records(format=\"ifs3\",query=scopus_epfl_query,count=2)"
   ]
  },
  {
   "cell_type": "markdown",
   "id": "335d6f13-4136-4dd0-8879-ddca652c01f7",
   "metadata": {},
   "source": [
    "## Wrappers"
   ]
  },
  {
   "cell_type": "code",
   "execution_count": null,
   "id": "7a4386fa-7046-4807-8a08-889a1c5d023b",
   "metadata": {},
   "outputs": [],
   "source": [
    "from data_pipeline.harvester import WosHarvester, ScopusHarvester"
   ]
  },
  {
   "cell_type": "code",
   "execution_count": null,
   "id": "33bb9bdf-82d6-4ed6-8e4d-bd74a2948b26",
   "metadata": {},
   "outputs": [],
   "source": [
    "default_queries = {\n",
    "        \"wos\": \"OG=(Ecole Polytechnique Federale de Lausanne)\",\n",
    "        \"scopus\": \"AF-ID(60028186) OR AF-ID(60210159) OR AF-ID(60070536) OR AF-ID(60204330) OR AF-ID(60070531) OR AF-ID(60070534) OR AF-ID(60070538) OR AF-ID(60014951) OR AF-ID(60070529) OR AF-ID(60070532) OR AF-ID(60070535) OR AF-ID(60122563) OR AF-ID(60210160) OR AF-ID(60204331)\",\n",
    "        \"openalex\": \"OPENALEX_QUERY_HERE\",  # Placeholder for OpenAlex query\n",
    "        \"zenodo\": \"ZENODO_QUERY_HERE\"      # Placeholder for Zenodo query\n",
    "    }\n",
    "start_date = \"2024-07-01\"\n",
    "end_date = \"2024-07-10\""
   ]
  },
  {
   "cell_type": "code",
   "execution_count": null,
   "id": "18f5300f-70e9-4a05-ba86-6757bd893545",
   "metadata": {},
   "outputs": [],
   "source": [
    "# Dataframe des publications WoS\n",
    "## format par défaut : ifs3\n",
    "wos_harvester = WosHarvester(start_date, end_date, default_queries[\"wos\"])\n",
    "wos_harvester.harvest()\n",
    "# Dataframe des publications Scopus\n",
    "## format par défaut : ifs3\n",
    "scopus_harvester = ScopusHarvester(start_date, end_date, default_queries[\"scopus\"])\n",
    "scopus_harvester.harvest()"
   ]
  },
  {
   "cell_type": "markdown",
   "id": "39b4e2cb-4fe7-4d49-970d-dc01051199b0",
   "metadata": {},
   "source": [
    "## Main"
   ]
  },
  {
   "cell_type": "code",
   "execution_count": null,
   "id": "9b86ac21-e701-4949-897c-0efb628c8659",
   "metadata": {},
   "outputs": [],
   "source": [
    "from data_pipeline.main import main"
   ]
  },
  {
   "cell_type": "markdown",
   "id": "b8644e82-1898-4324-ab89-c0c75eab5109",
   "metadata": {},
   "source": [
    "1. La fonction main réalise les opérations de\n",
    "- moissonnage : via les wrappers\n",
    "- dédoublonnage entre les 2 dataframes issus du moissonnage des 2 sources\n",
    "- dédoublonnage sur les notices déjà présentes dans Infoscience\n",
    "\n",
    "2. Elle intègre les requêtes par défaut sur les sources pour le moissonnage courant, les requêtes peuvent être surchargées en les passant en arguments.\n",
    "\n",
    "3. Elle retourne 3 dataframes (et sauvegarde les 3 fichiers csv correspondants) : le dataframe des publications, le dataframe de tous les auteurs avec leurs affiliations, le dataframe des publications non retenues pour un futur import car déjà présentes dans Infoscience."
   ]
  },
  {
   "cell_type": "code",
   "execution_count": null,
   "id": "87ff7037-f560-4375-a7ae-1330b2d96feb",
   "metadata": {},
   "outputs": [],
   "source": [
    "start_date = \"2024-07-01\"\n",
    "end_date = \"2024-07-10\""
   ]
  },
  {
   "cell_type": "code",
   "execution_count": null,
   "id": "0b6c709a-d55f-4f42-bc80-2bbde228c82a",
   "metadata": {},
   "outputs": [],
   "source": [
    "# default\n",
    "df_metadata, df_authors, df_unloaded = main(start_date=start_date, end_date=end_date)\n",
    "# en customisant les requêtes\n",
    "queries =  {\n",
    "        \"wos\": \"OG=(EPFL)\",\n",
    "        \"scopus\": \"AF-ID(60028186)\",\n",
    "    }\n",
    "df_metadata, df_authors, df_unloaded = main(start_date=start_date, end_date=end_date, queries=queries)"
   ]
  },
  {
   "cell_type": "markdown",
   "id": "b2b841ae-590e-4ae3-b484-1899f17d32b4",
   "metadata": {},
   "source": [
    "## Etape 1 : Récupération des publications EPFL (métadonnées, auteurs, affiliations) depuis les bases biblios externes, dédoublonnage entre sources et dédoublonnage sur publications déjà présentes dans Infoscience"
   ]
  },
  {
   "cell_type": "code",
   "execution_count": 3,
   "id": "a62ea6ca",
   "metadata": {},
   "outputs": [],
   "source": [
    "### Workflow metadata #####################\n",
    "current_date = str(date.today())\n",
    "folder_path = \"harvested-data\"\n",
    "path = os.path.join(folder_path, str(current_date).replace(\"-\", \"_\"))\n",
    "if not os.path.exists(path):\n",
    "    os.mkdir(path)\n",
    "\n",
    "### ipywidgets config #########################\n",
    "style = {'description_width': 'initial'}\n",
    "spinner_output = widgets.Output()"
   ]
  },
  {
   "cell_type": "markdown",
   "id": "76d1ade5-1c20-426b-91a5-a97bd25c6e84",
   "metadata": {},
   "source": [
    "**`main.py`** : The default queries are the ones that identifify and harvest the publications of the EPFL institutions\n",
    "\n",
    "- WoS : \"OG=(Ecole Polytechnique Federale de Lausanne)\"\n",
    "- Scopus : \"AF-ID(60028186) OR AF-ID(60210159) OR AF-ID(60070536) OR AF-ID(60204330) OR AF-ID(60070531) OR AF-ID(60070534) OR AF-ID(60070538) OR AF-ID(60014951) OR AF-ID(60070529) OR AF-ID(60070532) OR AF-ID(60070535) OR AF-ID(60122563) OR AF-ID(60210160) OR AF-ID(60204331)\"\n",
    "\n",
    "These queries are completed by the selected data range as parameters\n",
    "\n",
    "**notebook** : To overwrite and customize the default queries:\n",
    "```\n",
    "custom_queries = {\n",
    "    \"wos\": \"OG=(Your Custom Query for WOS)\",\n",
    "    \"scopus\": \"AF-ID(Your Custom Scopus ID)\",\n",
    "    \"openalex\": \"YOUR_CUSTOM_OPENALEX_QUERY\",\n",
    "    \"zenodo\": \"YOUR_CUSTOM_ZENODO_QUERY\"\n",
    "}\n",
    "df_metadata, df_authors, df_unloaded = main(start_date=\"2023-01-01\", end_date=\"2023-12-31\", queries=custom_queries)\n",
    "```"
   ]
  },
  {
   "cell_type": "code",
   "execution_count": 4,
   "id": "e8697952-1eb3-44c9-88f6-4c7e251cdcd5",
   "metadata": {},
   "outputs": [
    {
     "data": {
      "application/vnd.jupyter.widget-view+json": {
       "model_id": "2e37d2d80b06433184e2cfb241a362e7",
       "version_major": 2,
       "version_minor": 0
      },
      "text/plain": [
       "DatePicker(value=Timestamp('2024-07-22 00:00:00'), description='Date de publication postérieure au : ', layout…"
      ]
     },
     "metadata": {},
     "output_type": "display_data"
    },
    {
     "data": {
      "application/vnd.jupyter.widget-view+json": {
       "model_id": "c6e4202bcae046d994b9e66fbb5dbbca",
       "version_major": 2,
       "version_minor": 0
      },
      "text/plain": [
       "DatePicker(value=Timestamp('2024-08-01 00:00:00'), description='Date de publication antérieure au : ', layout=…"
      ]
     },
     "metadata": {},
     "output_type": "display_data"
    },
    {
     "data": {
      "application/vnd.jupyter.widget-view+json": {
       "model_id": "d693e69552704caa879bb0e2c84946e4",
       "version_major": 2,
       "version_minor": 0
      },
      "text/plain": [
       "Button(description='Harvest WOS and Scopus', style=ButtonStyle())"
      ]
     },
     "metadata": {},
     "output_type": "display_data"
    },
    {
     "data": {
      "application/vnd.jupyter.widget-view+json": {
       "model_id": "8c7bb89b3db041768889e48a986d8e09",
       "version_major": 2,
       "version_minor": 0
      },
      "text/plain": [
       "Output()"
      ]
     },
     "metadata": {},
     "output_type": "display_data"
    },
    {
     "data": {
      "application/vnd.jupyter.widget-view+json": {
       "model_id": "f5a84ad5bf244e25abd2030587effa76",
       "version_major": 2,
       "version_minor": 0
      },
      "text/plain": [
       "Output()"
      ]
     },
     "metadata": {},
     "output_type": "display_data"
    }
   ],
   "source": [
    "start_date = widgets.DatePicker(\n",
    "    description='Date de publication postérieure au : ',\n",
    "    value=pd.to_datetime('2024-07-22'),\n",
    "    disabled=False,\n",
    "    style=style,\n",
    "    layout = Layout(width='50%', height='30px', display='flex')\n",
    ")\n",
    "\n",
    "end_date = widgets.DatePicker(\n",
    "    description=\"Date de publication antérieure au : \",\n",
    "    value=pd.to_datetime(\"2024-08-01\"),\n",
    "    disabled=False,\n",
    "    style=style,\n",
    "    layout=Layout(width=\"50%\", height=\"30px\", display=\"flex\"),\n",
    ")\n",
    "\n",
    "harvest_button = widgets.Button(description=\"Harvest WOS and Scopus\")\n",
    "harvest_output = widgets.Output()\n",
    "\n",
    "display(start_date, end_date,harvest_button, harvest_output, spinner_output)\n",
    "\n",
    "def harvest_button_clicked(b):\n",
    "    with spinner_output:\n",
    "        display(widgets.HTML(\"<p>Chargement en cours...</p>\"))\n",
    "    with harvest_output:\n",
    "        start = start_date.value.strftime('%Y-%m-%d')\n",
    "        end = end_date.value.strftime('%Y-%m-%d')\n",
    "        df_metadata, df_authors, df_unloaded = main(start_date=start, end_date=end)\n",
    "        df_metadata.to_csv(\n",
    "                       os.path.join(path, \"ResearchOutput.csv\"), index=False, encoding=\"utf-8\")\n",
    "        df_authors.to_csv(\n",
    "                       os.path.join(path, \"AddressesAndNames.csv\"), index=False, encoding=\"utf-8\")\n",
    "        df_unloaded.to_csv(\n",
    "                       os.path.join(path, \"UnloadedDuplicatedPublications.csv\"), index=False, encoding=\"utf-8\")\n",
    "        # Liens de téléchargement\n",
    "        display(create_download_link(os.path.join(path,\"ResearchOutput.csv\")))\n",
    "        display(create_download_link(os.path.join(path,\"AddressesAndNames.csv\")))\n",
    "        display(create_download_link(os.path.join(path,\"UnloadedDuplicatedPublications.csv\")))\n",
    "        spinner_output.clear_output()\n",
    "\n",
    "harvest_button.on_click(harvest_button_clicked)"
   ]
  },
  {
   "cell_type": "markdown",
   "id": "6b3abef8-7809-413f-a630-626208d34946",
   "metadata": {},
   "source": [
    "***"
   ]
  },
  {
   "cell_type": "markdown",
   "id": "239b8ee2-804d-4443-b9ee-207cb3353ad2",
   "metadata": {},
   "source": [
    "## Etape 2 : Enrichissements des entités auteurs à partir de api.epfl.ch"
   ]
  },
  {
   "cell_type": "markdown",
   "id": "c93e45f9-affa-4097-b9fc-6edb8df3821c",
   "metadata": {},
   "source": [
    "***"
   ]
  },
  {
   "cell_type": "markdown",
   "id": "642f047f",
   "metadata": {},
   "source": [
    "## Etape 3 : Importation en tant que workspace items dans DSpace"
   ]
  },
  {
   "cell_type": "code",
   "execution_count": null,
   "id": "69d4f876-4962-4112-97d4-8b962e008d35",
   "metadata": {
    "tags": []
   },
   "outputs": [],
   "source": [
    "def wos_to_dspace():\n",
    "    df = pd.read_csv(\n",
    "        os.path.join(path, \"ResearchOutput.csv\"), sep=\",\", encoding=\"utf-8\"\n",
    "    )\n",
    "    if \"workspace_item_id\" not in df.columns:\n",
    "        df[\"workspace_item_id\"] = None\n",
    "\n",
    "    # Instantiate DSpace client\n",
    "    d = DSpaceClient()\n",
    "\n",
    "    # Authenticate against the DSpace client\n",
    "    authenticated = d.authenticate()\n",
    "    collection_id = \"8a8d3310-6535-4d3a-90b6-2a4428097b5b\"\n",
    "\n",
    "    ids_to_workspace = df[\"wos_id\"].tolist()\n",
    "    for index, wos_id in enumerate(ids_to_workspace):\n",
    "        response = d.create_workspaceitem_from_external_source(\"wos\", wos_id, collection_id)\n",
    "\n",
    "        workspace_id = response.get(\"id\")\n",
    "        units = utils.get_units_for_id(path, wos_id)\n",
    "        sponsorships = []\n",
    "        for unit in units:\n",
    "            sponsorships.append(\n",
    "                {\n",
    "                    \"value\": unit.get(\"acro\"),\n",
    "                    \"language\": None,\n",
    "                    \"authority\": f\"will be referenced::ACRONYM::{unit.get('acro')}\",\n",
    "                    \"securityLevel\": 0,\n",
    "                    \"confidence\": 400,\n",
    "                    \"place\": 0,\n",
    "                }\n",
    "            )\n",
    "\n",
    "        patch_operations = [\n",
    "            {\n",
    "                \"op\": \"add\",\n",
    "                \"path\": \"/sections/article_details/dc.language.iso\",\n",
    "                \"value\": [\n",
    "                    {\n",
    "                        \"value\": \"en\",\n",
    "                        \"language\": None,\n",
    "                        \"authority\": None,\n",
    "                        \"display\": \"English\",\n",
    "                        \"securityLevel\": 0,\n",
    "                        \"confidence\": -1,\n",
    "                        \"place\": 0,\n",
    "                        \"otherInformation\": None,\n",
    "                    }\n",
    "                ],\n",
    "            },\n",
    "            {\n",
    "                \"op\": \"add\",\n",
    "                \"path\": \"/sections/article_details/dc.description.sponsorship\",\n",
    "                \"value\": sponsorships,\n",
    "            },\n",
    "            {\n",
    "                \"op\": \"add\",\n",
    "                \"path\": \"/sections/article_details/epfl.peerreviewed\",\n",
    "                \"value\": [\n",
    "                    {\n",
    "                        \"value\": \"REVIEWED\",\n",
    "                        \"language\": None,\n",
    "                        \"authority\": None,\n",
    "                        \"display\": \"REVIEWED\",\n",
    "                        \"securityLevel\": 0,\n",
    "                        \"confidence\": -1,\n",
    "                        \"place\": 0,\n",
    "                        \"otherInformation\": None,\n",
    "                    }\n",
    "                ],\n",
    "            },\n",
    "            {\n",
    "                \"op\": \"add\",\n",
    "                \"path\": \"/sections/article_details/epfl.writtenAt\",\n",
    "                \"value\": [\n",
    "                    {\n",
    "                        \"value\": \"EPFL\",\n",
    "                        \"language\": None,\n",
    "                        \"authority\": None,\n",
    "                        \"display\": \"EPFL\",\n",
    "                        \"securityLevel\": 0,\n",
    "                        \"confidence\": -1,\n",
    "                        \"place\": 0,\n",
    "                        \"otherInformation\": None,\n",
    "                    }\n",
    "                ],\n",
    "            },\n",
    "            {\"op\": \"add\", \"path\": \"/sections/license/granted\", \"value\": \"true\"},\n",
    "        ]\n",
    "        df.at[index, \"workspace_item_id\"] = workspace_id\n",
    "        try:\n",
    "            update_response = d.update_workspaceitem(workspace_id, patch_operations)\n",
    "            if update_response:\n",
    "                try:\n",
    "                    wf_response = d.create_workflowitem(workspace_id)\n",
    "                    logging.info(f\"Workflow item #{workspace_id} created\")\n",
    "                except Exception as e:\n",
    "                    logging.error(\n",
    "                        f\"An error occurred while creating workflow item: {str(e)}\"\n",
    "                    )\n",
    "            else:\n",
    "                logging.error(\n",
    "                    f\"Failed to update workspace item with ID: {workspace_id}\"\n",
    "                )\n",
    "        except Exception as e:\n",
    "            logging.error(f\"An error occurred while updating workspace item: {str(e)}\")\n",
    "\n",
    "    df.to_csv(\n",
    "        os.path.join(path, \"ResearchOutput.csv\"), sep=\",\", encoding=\"utf-8\", index=False\n",
    "    )\n",
    "\n",
    "# create workspace and workflow items\n",
    "wos_to_dspace()"
   ]
  }
 ],
 "metadata": {
  "kernelspec": {
   "display_name": "venv_ifs3_imports",
   "language": "python",
   "name": "venv_ifs3_imports"
  },
  "language_info": {
   "codemirror_mode": {
    "name": "ipython",
    "version": 3
   },
   "file_extension": ".py",
   "mimetype": "text/x-python",
   "name": "python",
   "nbconvert_exporter": "python",
   "pygments_lexer": "ipython3",
   "version": "3.8.10"
  }
 },
 "nbformat": 4,
 "nbformat_minor": 5
}
