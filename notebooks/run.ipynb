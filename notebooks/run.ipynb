{
 "cells": [
  {
   "cell_type": "markdown",
   "id": "13de484b-d51e-43dd-9c26-c4c42b02c215",
   "metadata": {},
   "source": [
    "# Import Scopus to Infoscience"
   ]
  },
  {
   "cell_type": "code",
   "execution_count": 1,
   "id": "c5d2fa12",
   "metadata": {},
   "outputs": [],
   "source": [
    "import sys\n",
    "import os\n",
    "sys.path.append(os.path.abspath(\"..\"))"
   ]
  },
  {
   "cell_type": "code",
   "execution_count": 2,
   "id": "3237154e",
   "metadata": {},
   "outputs": [],
   "source": [
    "from data_pipeline.harvester import ScopusHarvester\n",
    "from data_pipeline.deduplicator import DataFrameProcessor\n",
    "from data_pipeline.enricher import AuthorProcessor, PublicationProcessor\n",
    "from data_pipeline.loader import Loader\n",
    "from config import default_queries\n",
    "from datetime import datetime"
   ]
  },
  {
   "cell_type": "markdown",
   "id": "bb820618",
   "metadata": {},
   "source": [
    "***"
   ]
  },
  {
   "cell_type": "code",
   "execution_count": 3,
   "id": "c8399ce3",
   "metadata": {},
   "outputs": [],
   "source": [
    "# Création du dossier avec la date actuelle\n",
    "current_datetime = datetime.now().strftime(\"%Y_%m_%d-%H_%M_%S\")\n",
    "folder_path = \"harvested-data\"\n",
    "os.makedirs(folder_path, exist_ok=True)\n",
    "path = os.path.join(folder_path, current_datetime)\n",
    "\n",
    "if not os.path.exists(path):\n",
    "    os.mkdir(path)"
   ]
  },
  {
   "cell_type": "markdown",
   "id": "e8968e63",
   "metadata": {},
   "source": [
    "***"
   ]
  },
  {
   "cell_type": "markdown",
   "id": "8a3f68ca",
   "metadata": {},
   "source": [
    "## Init query and date intervals"
   ]
  },
  {
   "cell_type": "code",
   "execution_count": 4,
   "id": "04d0e685",
   "metadata": {},
   "outputs": [],
   "source": [
    "start_date = \"2024-03-01\"\n",
    "end_date = \"2024-04-01\"\n",
    "# queries = {\n",
    "#     \"scopus\": \"(DOCTYPE(ar) OR DOCTYPE(dp)) AND (AF-ID(60028186) OR AF-ID(60210159) OR AF-ID(60070536) OR AF-ID(60204330) OR AF-ID(60070531) OR AF-ID(60070534) OR AF-ID(60070538) OR AF-ID(60014951) OR AF-ID(60070529) OR AF-ID(60070532) OR AF-ID(60070535) OR AF-ID(60122563) OR AF-ID(60210160) OR AF-ID(60204331))\"\n",
    "# }\n",
    "\n",
    "queries = {\"scopus\": \"EID(2-s2.0-85188450496)\"}\n",
    "\n",
    "\n",
    "# queries = None\n",
    "\n",
    "if queries:\n",
    "    default_queries.update(queries)"
   ]
  },
  {
   "cell_type": "markdown",
   "id": "a01e28b8",
   "metadata": {},
   "source": [
    "***"
   ]
  },
  {
   "cell_type": "markdown",
   "id": "ff2c2e9b",
   "metadata": {},
   "source": [
    "## Harvest data from Scopus"
   ]
  },
  {
   "cell_type": "code",
   "execution_count": 5,
   "id": "d5f65849",
   "metadata": {},
   "outputs": [],
   "source": [
    "scopus_harvester = ScopusHarvester(start_date, end_date, default_queries[\"scopus\"])"
   ]
  },
  {
   "cell_type": "code",
   "execution_count": null,
   "id": "2748c5f3",
   "metadata": {},
   "outputs": [],
   "source": [
    "scopus_publications = scopus_harvester.harvest()"
   ]
  },
  {
   "cell_type": "code",
   "execution_count": 7,
   "id": "7e2229e7",
   "metadata": {},
   "outputs": [],
   "source": [
    "scopus_publications.to_csv(\n",
    "    os.path.join(path, \"ScopusHarvestedData.csv\"), index=False, encoding=\"utf-8\"\n",
    ")"
   ]
  },
  {
   "cell_type": "markdown",
   "id": "cfef216f-9204-43ce-a868-07813cdfb806",
   "metadata": {},
   "source": [
    "***"
   ]
  },
  {
   "cell_type": "markdown",
   "id": "80bc8917",
   "metadata": {},
   "source": [
    "## Deduplicate with Infoscience"
   ]
  },
  {
   "cell_type": "code",
   "execution_count": 8,
   "id": "006bd917",
   "metadata": {},
   "outputs": [],
   "source": [
    "deduplicator = DataFrameProcessor(scopus_publications)"
   ]
  },
  {
   "cell_type": "code",
   "execution_count": null,
   "id": "7ecc66cd",
   "metadata": {},
   "outputs": [],
   "source": [
    "# Deduplicate the publications : first deduplicate operation between the sources\n",
    "deduplicated_sources_df = deduplicator.deduplicate_dataframes()\n",
    "# and second operation : filter by removing founded duplicates in Infoscience\n",
    "df_final,df_unloaded = deduplicator.deduplicate_infoscience(deduplicated_sources_df)"
   ]
  },
  {
   "cell_type": "code",
   "execution_count": 10,
   "id": "f7bd8eb5",
   "metadata": {},
   "outputs": [],
   "source": [
    "df_unloaded.to_csv(\n",
    "    os.path.join(path, \"UnloadedDuplicatedPublications.csv\"),\n",
    "    index=False,\n",
    "    encoding=\"utf-8\",\n",
    ")"
   ]
  },
  {
   "cell_type": "markdown",
   "id": "0bc4650f",
   "metadata": {},
   "source": [
    "***"
   ]
  },
  {
   "cell_type": "markdown",
   "id": "252fbce8",
   "metadata": {},
   "source": [
    "## Generate Main Dataframes"
   ]
  },
  {
   "cell_type": "code",
   "execution_count": 11,
   "id": "c80dc900",
   "metadata": {},
   "outputs": [],
   "source": [
    "df_metadata, df_authors = deduplicator.generate_main_dataframes(df_final)"
   ]
  },
  {
   "cell_type": "code",
   "execution_count": 12,
   "id": "96989490",
   "metadata": {},
   "outputs": [],
   "source": [
    "# Sauvegarde des données au format CSV\n",
    "df_metadata.to_csv(\n",
    "    os.path.join(path, \"ResearchOutput.csv\"), index=False, encoding=\"utf-8\"\n",
    ")\n",
    "df_authors.to_csv(\n",
    "    os.path.join(path, \"AddressesAndNames.csv\"), index=False, encoding=\"utf-8\"\n",
    ")"
   ]
  },
  {
   "cell_type": "markdown",
   "id": "fec5ed7f",
   "metadata": {},
   "source": [
    "***"
   ]
  },
  {
   "cell_type": "markdown",
   "id": "cb3a332d",
   "metadata": {},
   "source": [
    "## EPFL Authors Reconciliation"
   ]
  },
  {
   "cell_type": "code",
   "execution_count": null,
   "id": "d437dbac",
   "metadata": {},
   "outputs": [],
   "source": [
    "author_processor = AuthorProcessor(df_authors)\n",
    "\n",
    "df_epfl_authors = (\n",
    "    author_processor.process()\n",
    "    .filter_epfl_authors()\n",
    "    .clean_authors()\n",
    "    .nameparse_authors()\n",
    "    .api_epfl_reconciliation()\n",
    "    .generate_dspace_uuid(return_df=True)\n",
    ")"
   ]
  },
  {
   "cell_type": "code",
   "execution_count": 14,
   "id": "218eb6b2",
   "metadata": {},
   "outputs": [],
   "source": [
    "df_epfl_authors.to_csv(\n",
    "    os.path.join(path, \"EpflAuthors.csv\"), index=False, encoding=\"utf-8\"\n",
    ")"
   ]
  },
  {
   "cell_type": "markdown",
   "id": "3436898d",
   "metadata": {},
   "source": [
    "***"
   ]
  },
  {
   "cell_type": "markdown",
   "id": "a5b5ab8d",
   "metadata": {},
   "source": [
    "## Get OA fulltexts from Unpaywall/Crossref"
   ]
  },
  {
   "cell_type": "code",
   "execution_count": null,
   "id": "5cba9d82",
   "metadata": {},
   "outputs": [],
   "source": [
    "    # Generate publications dataframe enriched with OA attributes\n",
    "publication_processor = PublicationProcessor(df_metadata)\n",
    "df_oa_metadata = publication_processor.process(return_df=True)"
   ]
  },
  {
   "cell_type": "code",
   "execution_count": 16,
   "id": "766e0a4a",
   "metadata": {},
   "outputs": [],
   "source": [
    "df_oa_metadata.to_csv(\n",
    "    os.path.join(path, \"ResearchOutputsWithOA.csv\"),\n",
    "    index=False,\n",
    "    encoding=\"utf-8\",\n",
    ")"
   ]
  },
  {
   "cell_type": "markdown",
   "id": "e5a3a8ed",
   "metadata": {},
   "source": [
    "***"
   ]
  },
  {
   "cell_type": "markdown",
   "id": "e0e8c175",
   "metadata": {},
   "source": [
    "## Upload data in DSpace"
   ]
  },
  {
   "cell_type": "code",
   "execution_count": null,
   "id": "f8345196",
   "metadata": {},
   "outputs": [],
   "source": [
    "loader_instance = Loader(df_oa_metadata, df_epfl_authors, df_authors)\n",
    "loaded_items = loader_instance.create_complete_publication()"
   ]
  },
  {
   "cell_type": "code",
   "execution_count": 18,
   "id": "696c4d7d",
   "metadata": {},
   "outputs": [],
   "source": [
    "### Generated reports\n",
    "loaded_items.to_csv(\n",
    "    os.path.join(path, \"ImportedResearchOutputs.csv\"), index=False, encoding=\"utf-8\"\n",
    ")"
   ]
  }
 ],
 "metadata": {
  "kernelspec": {
   "display_name": "Python 3",
   "language": "python",
   "name": "python3"
  },
  "language_info": {
   "codemirror_mode": {
    "name": "ipython",
    "version": 3
   },
   "file_extension": ".py",
   "mimetype": "text/x-python",
   "name": "python",
   "nbconvert_exporter": "python",
   "pygments_lexer": "ipython3",
   "version": "3.11.3"
  }
 },
 "nbformat": 4,
 "nbformat_minor": 5
}
