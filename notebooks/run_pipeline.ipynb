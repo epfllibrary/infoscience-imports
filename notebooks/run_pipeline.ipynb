{
 "cells": [
  {
   "cell_type": "markdown",
   "id": "13de484b-d51e-43dd-9c26-c4c42b02c215",
   "metadata": {},
   "source": [
    "# Import WOS & Scopus to Infoscience"
   ]
  },
  {
   "cell_type": "code",
   "execution_count": 1,
   "id": "c5d2fa12",
   "metadata": {},
   "outputs": [],
   "source": [
    "import sys\n",
    "import os\n",
    "\n",
    "from datetime import datetime\n",
    "sys.path.append(os.path.abspath(\"..\"))\n",
    "from data_pipeline.main import main\n",
    "from data_pipeline.reporting import GenerateReports"
   ]
  },
  {
   "cell_type": "code",
   "execution_count": 2,
   "id": "c8399ce3",
   "metadata": {},
   "outputs": [],
   "source": [
    "# Création du dossier avec la date actuelle\n",
    "current_datetime = datetime.now().strftime(\"%Y_%m_%d-%H_%M_%S\")\n",
    "folder_path = \"harvested-data\"\n",
    "os.makedirs(folder_path, exist_ok=True)\n",
    "path = os.path.join(folder_path, current_datetime)\n",
    "\n",
    "if not os.path.exists(path):\n",
    "    os.mkdir(path)"
   ]
  },
  {
   "cell_type": "code",
   "execution_count": null,
   "id": "04d0e685",
   "metadata": {},
   "outputs": [],
   "source": [
    "# Exécution du workflow\n",
    "start = \"2025-02-02\"\n",
    "end = \"2025-02-04\"\n",
    "df_metadata, df_authors, df_epfl_authors, df_unloaded, df_loaded = main(\n",
    "    start_date=start, end_date=end\n",
    ")"
   ]
  },
  {
   "cell_type": "code",
   "execution_count": 4,
   "id": "f31d1cac",
   "metadata": {},
   "outputs": [],
   "source": [
    "df_excluded = df_metadata[~df_metadata[\"row_id\"].isin(df_loaded[\"row_id\"])]\n",
    "\n",
    "\n",
    "dataframes = {\n",
    "    \"ResearchOutput.csv\": df_metadata,\n",
    "    \"AddressesAndNames.csv\": df_authors,\n",
    "    \"EpflAuthors.csv\": df_epfl_authors,\n",
    "    \"UnloadedDuplicatedPublications.csv\": df_unloaded,\n",
    "    \"ImportedPublications.csv\": df_loaded,\n",
    "    \"ExcludedPublications.csv\": df_excluded,\n",
    "}\n",
    "\n",
    "for filename, df in dataframes.items():\n",
    "    full_path = os.path.join(path, filename)\n",
    "    df.to_csv(full_path, index=False, encoding=\"utf-8\")"
   ]
  },
  {
   "cell_type": "code",
   "execution_count": null,
   "id": "62395204",
   "metadata": {},
   "outputs": [],
   "source": [
    "# Initialize the report generator with required DataFrames\n",
    "report_generator = GenerateReports(df_metadata, df_unloaded, df_epfl_authors, df_loaded)\n",
    "\n",
    "# Generate the Excel report\n",
    "report_path = report_generator.generate_excel_report(output_dir=path)\n",
    "\n",
    "print(f\"Excel report generated successfully: {report_path}\")"
   ]
  }
 ],
 "metadata": {
  "kernelspec": {
   "display_name": "Python 3",
   "language": "python",
   "name": "python3"
  },
  "language_info": {
   "codemirror_mode": {
    "name": "ipython",
    "version": 3
   },
   "file_extension": ".py",
   "mimetype": "text/x-python",
   "name": "python",
   "nbconvert_exporter": "python",
   "pygments_lexer": "ipython3",
   "version": "3.11.3"
  }
 },
 "nbformat": 4,
 "nbformat_minor": 5
}
