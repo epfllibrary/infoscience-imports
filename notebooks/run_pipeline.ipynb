{
 "cells": [
  {
   "cell_type": "markdown",
   "id": "13de484b-d51e-43dd-9c26-c4c42b02c215",
   "metadata": {},
   "source": [
    "# Import WOS & Scopus to Infoscience"
   ]
  },
  {
   "cell_type": "code",
   "execution_count": 1,
   "id": "c5d2fa12",
   "metadata": {},
   "outputs": [],
   "source": [
    "import sys\n",
    "import os\n",
    "\n",
    "from datetime import datetime\n",
    "sys.path.append(os.path.abspath(\"..\"))\n",
    "from data_pipeline.main import main\n",
    "from data_pipeline.reporting import GenerateReports"
   ]
  },
  {
   "cell_type": "markdown",
   "id": "1a3821d0",
   "metadata": {},
   "source": [
    "## Initialize working directory"
   ]
  },
  {
   "cell_type": "code",
   "execution_count": 2,
   "id": "c8399ce3",
   "metadata": {},
   "outputs": [],
   "source": [
    "\n",
    "current_datetime = datetime.now().strftime(\"%Y_%m_%d-%H_%M_%S\")\n",
    "folder_path = \"harvested-data\"\n",
    "os.makedirs(folder_path, exist_ok=True)\n",
    "path = os.path.join(folder_path, current_datetime)\n",
    "\n",
    "if not os.path.exists(path):\n",
    "    os.mkdir(path)"
   ]
  },
  {
   "cell_type": "markdown",
   "id": "ace96c6e",
   "metadata": {},
   "source": [
    "## Define parameters"
   ]
  },
  {
   "cell_type": "code",
   "execution_count": 3,
   "id": "8ae46c94",
   "metadata": {},
   "outputs": [],
   "source": [
    "start = \"2025-02-05\"\n",
    "end = \"2025-02-07\"\n",
    "\n",
    "# author_ids = [\"DYK-7080-2022\", \"23008979400\"]\n",
    "author_ids = None\n",
    "\n",
    "# wos_query = (\"AI=(DYK-7080-2022) AND OG=(Ecole Polytechnique Federale de Lausanne) AND PY=2024\")\n",
    "wos_query = None\n",
    "\n",
    "# scopus_query = \"AU-ID ( 23008979400 ) AND AFFIL ( ecole polytechnique federale de lausanne ) AND PUBYEAR > 2023\"\n",
    "scopus_query = None"
   ]
  },
  {
   "cell_type": "markdown",
   "id": "d5267e7d",
   "metadata": {},
   "source": [
    "## Run pipeline"
   ]
  },
  {
   "cell_type": "code",
   "execution_count": null,
   "id": "04d0e685",
   "metadata": {},
   "outputs": [],
   "source": [
    "custom_queries = {}\n",
    "\n",
    "if wos_query:\n",
    "    custom_queries[\"wos\"] = wos_query\n",
    "if scopus_query:\n",
    "    custom_queries[\"scopus\"] = scopus_query\n",
    "\n",
    "queries = custom_queries if custom_queries else None\n",
    "\n",
    "df_metadata, df_authors, df_epfl_authors, df_unloaded, df_loaded = main(\n",
    "    start_date=start, end_date=end, queries=queries, authors_ids=author_ids\n",
    ")"
   ]
  },
  {
   "cell_type": "markdown",
   "id": "bf9cfad4",
   "metadata": {},
   "source": [
    "## Create dataframe"
   ]
  },
  {
   "cell_type": "code",
   "execution_count": 5,
   "id": "f31d1cac",
   "metadata": {},
   "outputs": [],
   "source": [
    "df_rejected = df_metadata[~df_metadata[\"row_id\"].isin(df_loaded[\"row_id\"])]\n",
    "\n",
    "dataframes = {\n",
    "    \"ResearchOutput.csv\": df_metadata,\n",
    "    \"AddressesAndNames.csv\": df_authors,\n",
    "    \"EpflAuthors.csv\": df_epfl_authors,\n",
    "    \"UnloadedDuplicatedPublications.csv\": df_unloaded,\n",
    "    \"ImportedPublications.csv\": df_loaded,\n",
    "    \"RejectedPublications.csv\": df_rejected,\n",
    "}\n",
    "\n",
    "for filename, df in dataframes.items():\n",
    "    full_path = os.path.join(path, filename)\n",
    "    df.to_csv(full_path, index=False, encoding=\"utf-8\")"
   ]
  },
  {
   "cell_type": "markdown",
   "id": "b6e92c01",
   "metadata": {},
   "source": [
    "## Generate the Excel report"
   ]
  },
  {
   "cell_type": "code",
   "execution_count": null,
   "id": "62395204",
   "metadata": {},
   "outputs": [],
   "source": [
    "report_generator = GenerateReports(df_metadata, df_unloaded, df_epfl_authors, df_loaded)\n",
    "report_path = report_generator.generate_excel_report(output_dir=path)\n",
    "\n",
    "print(f\"Excel report generated successfully: {report_path}\")"
   ]
  },
  {
   "cell_type": "markdown",
   "id": "9a59c7a8",
   "metadata": {},
   "source": [
    "## Send the Excel report by Email"
   ]
  },
  {
   "cell_type": "code",
   "execution_count": null,
   "id": "2d5b6d6b",
   "metadata": {},
   "outputs": [],
   "source": [
    "report_generator.send_report_by_email(\n",
    "    recipient_email=recipient_email,\n",
    "    sender_email=sender_email,\n",
    "    smtp_server=smtp_server,\n",
    "    import_start_date=start,\n",
    "    import_end_date=end,\n",
    "    file_path=report_path,\n",
    ")"
   ]
  }
 ],
 "metadata": {
  "kernelspec": {
   "display_name": "Python 3",
   "language": "python",
   "name": "python3"
  },
  "language_info": {
   "codemirror_mode": {
    "name": "ipython",
    "version": 3
   },
   "file_extension": ".py",
   "mimetype": "text/x-python",
   "name": "python",
   "nbconvert_exporter": "python",
   "pygments_lexer": "ipython3",
   "version": "3.11.3"
  }
 },
 "nbformat": 4,
 "nbformat_minor": 5
}
