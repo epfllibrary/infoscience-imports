{
 "cells": [
  {
   "cell_type": "markdown",
   "id": "ae410b1f-2d72-4f9c-873b-7eded7efd7d3",
   "metadata": {},
   "source": [
    "# Delete Workspace Items"
   ]
  },
  {
   "cell_type": "code",
   "execution_count": 1,
   "id": "095c75a5",
   "metadata": {},
   "outputs": [],
   "source": [
    "import sys\n",
    "import os\n",
    "sys.path.append(os.path.abspath(\"..\"))"
   ]
  },
  {
   "cell_type": "code",
   "execution_count": 2,
   "id": "bc50194d-f5fb-440e-8115-a3b452b6c9e4",
   "metadata": {},
   "outputs": [],
   "source": [
    "from clients.dspace_client_wrapper import DSpaceClientWrapper"
   ]
  },
  {
   "cell_type": "code",
   "execution_count": null,
   "id": "dd431375",
   "metadata": {},
   "outputs": [],
   "source": [
    "d = DSpaceClientWrapper()"
   ]
  },
  {
   "cell_type": "code",
   "execution_count": null,
   "id": "ff9cc212",
   "metadata": {},
   "outputs": [],
   "source": [
    "query = f\"*\"\n",
    "filters = {\n",
    "    \"f.namedresourcetype\": \"draft,equals\",\n",
    "    \"f.namedresourcetype\": \"workspace,authority\",\n",
    "    \"f.submitter\": \"189e380e-0b82-461b-89ae-b2714bcb9e78,authority\",\n",
    "}\n",
    "dsos = d._search_objects(\n",
    "    query=query,\n",
    "    page=0,\n",
    "    size=10,\n",
    "    filters=filters,\n",
    "    configuration=\"supervision\",\n",
    "    # max_pages=2,\n",
    ")\n",
    "for dso in dsos:\n",
    "    workspaceid = dso.id\n",
    "    print(dso.type)\n",
    "    print(workspaceid)\n",
    "    print(dso.uuid)\n",
    "    # response = d.delete_workspace(workspaceid)"
   ]
  }
 ],
 "metadata": {
  "kernelspec": {
   "display_name": "Python 3",
   "language": "python",
   "name": "python3"
  },
  "language_info": {
   "codemirror_mode": {
    "name": "ipython",
    "version": 3
   },
   "file_extension": ".py",
   "mimetype": "text/x-python",
   "name": "python",
   "nbconvert_exporter": "python",
   "pygments_lexer": "ipython3",
   "version": "3.11.3"
  }
 },
 "nbformat": 4,
 "nbformat_minor": 5
}
